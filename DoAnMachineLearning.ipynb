{
  "cells": [
    {
      "cell_type": "code",
      "execution_count": null,
      "metadata": {
        "id": "B4B4Ur6X-ZpO"
      },
      "outputs": [],
      "source": [
        "import numpy as np\n",
        "import pandas as pd\n",
        "import tensorflow as tf\n",
        "import matplotlib.pyplot as plt\n",
        "import seaborn as sns\n",
        "from sklearn.manifold import TSNE\n",
        "from sklearn.decomposition import PCA, TruncatedSVD\n",
        "import matplotlib.patches as mpatches\n",
        "import time\n",
        "from sklearn.model_selection import train_test_split\n",
        "\n",
        "# Classifier Libraries\n",
        "from sklearn.linear_model import LogisticRegression\n",
        "from sklearn.svm import SVC\n",
        "from sklearn.neighbors import KNeighborsClassifier\n",
        "from sklearn.ensemble import RandomForestClassifier\n",
        "import collections\n",
        "\n",
        "# Other Libraries\n",
        "from sklearn.model_selection import train_test_split\n",
        "from sklearn.pipeline import make_pipeline\n",
        "from imblearn.pipeline import make_pipeline as imbalanced_make_pipeline\n",
        "from imblearn.over_sampling import SMOTE\n",
        "from imblearn.under_sampling import NearMiss\n",
        "from imblearn.metrics import classification_report_imbalanced\n",
        "from sklearn.metrics import precision_score, recall_score, f1_score, roc_auc_score, accuracy_score, classification_report\n",
        "from collections import Counter\n",
        "from sklearn.model_selection import KFold, StratifiedKFold\n",
        "import warnings\n",
        "from sklearn.model_selection import cross_val_score\n",
        "from sklearn.model_selection import GridSearchCV\n",
        "from sklearn.metrics import classification_report\n",
        "from sklearn.metrics import roc_auc_score\n",
        "\n",
        "from sklearn.metrics import roc_curve\n",
        "from sklearn.model_selection import cross_val_predict\n",
        "\n",
        "warnings.filterwarnings(\"ignore\")"
      ]
    },
    {
      "cell_type": "code",
      "execution_count": null,
      "metadata": {
        "colab": {
          "base_uri": "https://localhost:8080/",
          "height": 255
        },
        "id": "sHC_GNvo_Cuh",
        "outputId": "edc6b414-5f04-444b-dc8e-efb995568e2a"
      },
      "outputs": [
        {
          "output_type": "execute_result",
          "data": {
            "text/plain": [
              "   Time        V1        V2        V3        V4        V5        V6        V7  \\\n",
              "0   0.0 -1.359807 -0.072781  2.536347  1.378155 -0.338321  0.462388  0.239599   \n",
              "1   0.0  1.191857  0.266151  0.166480  0.448154  0.060018 -0.082361 -0.078803   \n",
              "2   1.0 -1.358354 -1.340163  1.773209  0.379780 -0.503198  1.800499  0.791461   \n",
              "3   1.0 -0.966272 -0.185226  1.792993 -0.863291 -0.010309  1.247203  0.237609   \n",
              "4   2.0 -1.158233  0.877737  1.548718  0.403034 -0.407193  0.095921  0.592941   \n",
              "\n",
              "         V8        V9  ...       V21       V22       V23       V24       V25  \\\n",
              "0  0.098698  0.363787  ... -0.018307  0.277838 -0.110474  0.066928  0.128539   \n",
              "1  0.085102 -0.255425  ... -0.225775 -0.638672  0.101288 -0.339846  0.167170   \n",
              "2  0.247676 -1.514654  ...  0.247998  0.771679  0.909412 -0.689281 -0.327642   \n",
              "3  0.377436 -1.387024  ... -0.108300  0.005274 -0.190321 -1.175575  0.647376   \n",
              "4 -0.270533  0.817739  ... -0.009431  0.798278 -0.137458  0.141267 -0.206010   \n",
              "\n",
              "        V26       V27       V28  Amount  Class  \n",
              "0 -0.189115  0.133558 -0.021053  149.62      0  \n",
              "1  0.125895 -0.008983  0.014724    2.69      0  \n",
              "2 -0.139097 -0.055353 -0.059752  378.66      0  \n",
              "3 -0.221929  0.062723  0.061458  123.50      0  \n",
              "4  0.502292  0.219422  0.215153   69.99      0  \n",
              "\n",
              "[5 rows x 31 columns]"
            ],
            "text/html": [
              "\n",
              "  <div id=\"df-c28a9a61-ac73-479f-a939-0a4056f3c88f\" class=\"colab-df-container\">\n",
              "    <div>\n",
              "<style scoped>\n",
              "    .dataframe tbody tr th:only-of-type {\n",
              "        vertical-align: middle;\n",
              "    }\n",
              "\n",
              "    .dataframe tbody tr th {\n",
              "        vertical-align: top;\n",
              "    }\n",
              "\n",
              "    .dataframe thead th {\n",
              "        text-align: right;\n",
              "    }\n",
              "</style>\n",
              "<table border=\"1\" class=\"dataframe\">\n",
              "  <thead>\n",
              "    <tr style=\"text-align: right;\">\n",
              "      <th></th>\n",
              "      <th>Time</th>\n",
              "      <th>V1</th>\n",
              "      <th>V2</th>\n",
              "      <th>V3</th>\n",
              "      <th>V4</th>\n",
              "      <th>V5</th>\n",
              "      <th>V6</th>\n",
              "      <th>V7</th>\n",
              "      <th>V8</th>\n",
              "      <th>V9</th>\n",
              "      <th>...</th>\n",
              "      <th>V21</th>\n",
              "      <th>V22</th>\n",
              "      <th>V23</th>\n",
              "      <th>V24</th>\n",
              "      <th>V25</th>\n",
              "      <th>V26</th>\n",
              "      <th>V27</th>\n",
              "      <th>V28</th>\n",
              "      <th>Amount</th>\n",
              "      <th>Class</th>\n",
              "    </tr>\n",
              "  </thead>\n",
              "  <tbody>\n",
              "    <tr>\n",
              "      <th>0</th>\n",
              "      <td>0.0</td>\n",
              "      <td>-1.359807</td>\n",
              "      <td>-0.072781</td>\n",
              "      <td>2.536347</td>\n",
              "      <td>1.378155</td>\n",
              "      <td>-0.338321</td>\n",
              "      <td>0.462388</td>\n",
              "      <td>0.239599</td>\n",
              "      <td>0.098698</td>\n",
              "      <td>0.363787</td>\n",
              "      <td>...</td>\n",
              "      <td>-0.018307</td>\n",
              "      <td>0.277838</td>\n",
              "      <td>-0.110474</td>\n",
              "      <td>0.066928</td>\n",
              "      <td>0.128539</td>\n",
              "      <td>-0.189115</td>\n",
              "      <td>0.133558</td>\n",
              "      <td>-0.021053</td>\n",
              "      <td>149.62</td>\n",
              "      <td>0</td>\n",
              "    </tr>\n",
              "    <tr>\n",
              "      <th>1</th>\n",
              "      <td>0.0</td>\n",
              "      <td>1.191857</td>\n",
              "      <td>0.266151</td>\n",
              "      <td>0.166480</td>\n",
              "      <td>0.448154</td>\n",
              "      <td>0.060018</td>\n",
              "      <td>-0.082361</td>\n",
              "      <td>-0.078803</td>\n",
              "      <td>0.085102</td>\n",
              "      <td>-0.255425</td>\n",
              "      <td>...</td>\n",
              "      <td>-0.225775</td>\n",
              "      <td>-0.638672</td>\n",
              "      <td>0.101288</td>\n",
              "      <td>-0.339846</td>\n",
              "      <td>0.167170</td>\n",
              "      <td>0.125895</td>\n",
              "      <td>-0.008983</td>\n",
              "      <td>0.014724</td>\n",
              "      <td>2.69</td>\n",
              "      <td>0</td>\n",
              "    </tr>\n",
              "    <tr>\n",
              "      <th>2</th>\n",
              "      <td>1.0</td>\n",
              "      <td>-1.358354</td>\n",
              "      <td>-1.340163</td>\n",
              "      <td>1.773209</td>\n",
              "      <td>0.379780</td>\n",
              "      <td>-0.503198</td>\n",
              "      <td>1.800499</td>\n",
              "      <td>0.791461</td>\n",
              "      <td>0.247676</td>\n",
              "      <td>-1.514654</td>\n",
              "      <td>...</td>\n",
              "      <td>0.247998</td>\n",
              "      <td>0.771679</td>\n",
              "      <td>0.909412</td>\n",
              "      <td>-0.689281</td>\n",
              "      <td>-0.327642</td>\n",
              "      <td>-0.139097</td>\n",
              "      <td>-0.055353</td>\n",
              "      <td>-0.059752</td>\n",
              "      <td>378.66</td>\n",
              "      <td>0</td>\n",
              "    </tr>\n",
              "    <tr>\n",
              "      <th>3</th>\n",
              "      <td>1.0</td>\n",
              "      <td>-0.966272</td>\n",
              "      <td>-0.185226</td>\n",
              "      <td>1.792993</td>\n",
              "      <td>-0.863291</td>\n",
              "      <td>-0.010309</td>\n",
              "      <td>1.247203</td>\n",
              "      <td>0.237609</td>\n",
              "      <td>0.377436</td>\n",
              "      <td>-1.387024</td>\n",
              "      <td>...</td>\n",
              "      <td>-0.108300</td>\n",
              "      <td>0.005274</td>\n",
              "      <td>-0.190321</td>\n",
              "      <td>-1.175575</td>\n",
              "      <td>0.647376</td>\n",
              "      <td>-0.221929</td>\n",
              "      <td>0.062723</td>\n",
              "      <td>0.061458</td>\n",
              "      <td>123.50</td>\n",
              "      <td>0</td>\n",
              "    </tr>\n",
              "    <tr>\n",
              "      <th>4</th>\n",
              "      <td>2.0</td>\n",
              "      <td>-1.158233</td>\n",
              "      <td>0.877737</td>\n",
              "      <td>1.548718</td>\n",
              "      <td>0.403034</td>\n",
              "      <td>-0.407193</td>\n",
              "      <td>0.095921</td>\n",
              "      <td>0.592941</td>\n",
              "      <td>-0.270533</td>\n",
              "      <td>0.817739</td>\n",
              "      <td>...</td>\n",
              "      <td>-0.009431</td>\n",
              "      <td>0.798278</td>\n",
              "      <td>-0.137458</td>\n",
              "      <td>0.141267</td>\n",
              "      <td>-0.206010</td>\n",
              "      <td>0.502292</td>\n",
              "      <td>0.219422</td>\n",
              "      <td>0.215153</td>\n",
              "      <td>69.99</td>\n",
              "      <td>0</td>\n",
              "    </tr>\n",
              "  </tbody>\n",
              "</table>\n",
              "<p>5 rows × 31 columns</p>\n",
              "</div>\n",
              "    <div class=\"colab-df-buttons\">\n",
              "\n",
              "  <div class=\"colab-df-container\">\n",
              "    <button class=\"colab-df-convert\" onclick=\"convertToInteractive('df-c28a9a61-ac73-479f-a939-0a4056f3c88f')\"\n",
              "            title=\"Convert this dataframe to an interactive table.\"\n",
              "            style=\"display:none;\">\n",
              "\n",
              "  <svg xmlns=\"http://www.w3.org/2000/svg\" height=\"24px\" viewBox=\"0 -960 960 960\">\n",
              "    <path d=\"M120-120v-720h720v720H120Zm60-500h600v-160H180v160Zm220 220h160v-160H400v160Zm0 220h160v-160H400v160ZM180-400h160v-160H180v160Zm440 0h160v-160H620v160ZM180-180h160v-160H180v160Zm440 0h160v-160H620v160Z\"/>\n",
              "  </svg>\n",
              "    </button>\n",
              "\n",
              "  <style>\n",
              "    .colab-df-container {\n",
              "      display:flex;\n",
              "      gap: 12px;\n",
              "    }\n",
              "\n",
              "    .colab-df-convert {\n",
              "      background-color: #E8F0FE;\n",
              "      border: none;\n",
              "      border-radius: 50%;\n",
              "      cursor: pointer;\n",
              "      display: none;\n",
              "      fill: #1967D2;\n",
              "      height: 32px;\n",
              "      padding: 0 0 0 0;\n",
              "      width: 32px;\n",
              "    }\n",
              "\n",
              "    .colab-df-convert:hover {\n",
              "      background-color: #E2EBFA;\n",
              "      box-shadow: 0px 1px 2px rgba(60, 64, 67, 0.3), 0px 1px 3px 1px rgba(60, 64, 67, 0.15);\n",
              "      fill: #174EA6;\n",
              "    }\n",
              "\n",
              "    .colab-df-buttons div {\n",
              "      margin-bottom: 4px;\n",
              "    }\n",
              "\n",
              "    [theme=dark] .colab-df-convert {\n",
              "      background-color: #3B4455;\n",
              "      fill: #D2E3FC;\n",
              "    }\n",
              "\n",
              "    [theme=dark] .colab-df-convert:hover {\n",
              "      background-color: #434B5C;\n",
              "      box-shadow: 0px 1px 3px 1px rgba(0, 0, 0, 0.15);\n",
              "      filter: drop-shadow(0px 1px 2px rgba(0, 0, 0, 0.3));\n",
              "      fill: #FFFFFF;\n",
              "    }\n",
              "  </style>\n",
              "\n",
              "    <script>\n",
              "      const buttonEl =\n",
              "        document.querySelector('#df-c28a9a61-ac73-479f-a939-0a4056f3c88f button.colab-df-convert');\n",
              "      buttonEl.style.display =\n",
              "        google.colab.kernel.accessAllowed ? 'block' : 'none';\n",
              "\n",
              "      async function convertToInteractive(key) {\n",
              "        const element = document.querySelector('#df-c28a9a61-ac73-479f-a939-0a4056f3c88f');\n",
              "        const dataTable =\n",
              "          await google.colab.kernel.invokeFunction('convertToInteractive',\n",
              "                                                    [key], {});\n",
              "        if (!dataTable) return;\n",
              "\n",
              "        const docLinkHtml = 'Like what you see? Visit the ' +\n",
              "          '<a target=\"_blank\" href=https://colab.research.google.com/notebooks/data_table.ipynb>data table notebook</a>'\n",
              "          + ' to learn more about interactive tables.';\n",
              "        element.innerHTML = '';\n",
              "        dataTable['output_type'] = 'display_data';\n",
              "        await google.colab.output.renderOutput(dataTable, element);\n",
              "        const docLink = document.createElement('div');\n",
              "        docLink.innerHTML = docLinkHtml;\n",
              "        element.appendChild(docLink);\n",
              "      }\n",
              "    </script>\n",
              "  </div>\n",
              "\n",
              "\n",
              "<div id=\"df-7a8a6794-b23f-4db5-8ff4-f894b8da4322\">\n",
              "  <button class=\"colab-df-quickchart\" onclick=\"quickchart('df-7a8a6794-b23f-4db5-8ff4-f894b8da4322')\"\n",
              "            title=\"Suggest charts\"\n",
              "            style=\"display:none;\">\n",
              "\n",
              "<svg xmlns=\"http://www.w3.org/2000/svg\" height=\"24px\"viewBox=\"0 0 24 24\"\n",
              "     width=\"24px\">\n",
              "    <g>\n",
              "        <path d=\"M19 3H5c-1.1 0-2 .9-2 2v14c0 1.1.9 2 2 2h14c1.1 0 2-.9 2-2V5c0-1.1-.9-2-2-2zM9 17H7v-7h2v7zm4 0h-2V7h2v10zm4 0h-2v-4h2v4z\"/>\n",
              "    </g>\n",
              "</svg>\n",
              "  </button>\n",
              "\n",
              "<style>\n",
              "  .colab-df-quickchart {\n",
              "      --bg-color: #E8F0FE;\n",
              "      --fill-color: #1967D2;\n",
              "      --hover-bg-color: #E2EBFA;\n",
              "      --hover-fill-color: #174EA6;\n",
              "      --disabled-fill-color: #AAA;\n",
              "      --disabled-bg-color: #DDD;\n",
              "  }\n",
              "\n",
              "  [theme=dark] .colab-df-quickchart {\n",
              "      --bg-color: #3B4455;\n",
              "      --fill-color: #D2E3FC;\n",
              "      --hover-bg-color: #434B5C;\n",
              "      --hover-fill-color: #FFFFFF;\n",
              "      --disabled-bg-color: #3B4455;\n",
              "      --disabled-fill-color: #666;\n",
              "  }\n",
              "\n",
              "  .colab-df-quickchart {\n",
              "    background-color: var(--bg-color);\n",
              "    border: none;\n",
              "    border-radius: 50%;\n",
              "    cursor: pointer;\n",
              "    display: none;\n",
              "    fill: var(--fill-color);\n",
              "    height: 32px;\n",
              "    padding: 0;\n",
              "    width: 32px;\n",
              "  }\n",
              "\n",
              "  .colab-df-quickchart:hover {\n",
              "    background-color: var(--hover-bg-color);\n",
              "    box-shadow: 0 1px 2px rgba(60, 64, 67, 0.3), 0 1px 3px 1px rgba(60, 64, 67, 0.15);\n",
              "    fill: var(--button-hover-fill-color);\n",
              "  }\n",
              "\n",
              "  .colab-df-quickchart-complete:disabled,\n",
              "  .colab-df-quickchart-complete:disabled:hover {\n",
              "    background-color: var(--disabled-bg-color);\n",
              "    fill: var(--disabled-fill-color);\n",
              "    box-shadow: none;\n",
              "  }\n",
              "\n",
              "  .colab-df-spinner {\n",
              "    border: 2px solid var(--fill-color);\n",
              "    border-color: transparent;\n",
              "    border-bottom-color: var(--fill-color);\n",
              "    animation:\n",
              "      spin 1s steps(1) infinite;\n",
              "  }\n",
              "\n",
              "  @keyframes spin {\n",
              "    0% {\n",
              "      border-color: transparent;\n",
              "      border-bottom-color: var(--fill-color);\n",
              "      border-left-color: var(--fill-color);\n",
              "    }\n",
              "    20% {\n",
              "      border-color: transparent;\n",
              "      border-left-color: var(--fill-color);\n",
              "      border-top-color: var(--fill-color);\n",
              "    }\n",
              "    30% {\n",
              "      border-color: transparent;\n",
              "      border-left-color: var(--fill-color);\n",
              "      border-top-color: var(--fill-color);\n",
              "      border-right-color: var(--fill-color);\n",
              "    }\n",
              "    40% {\n",
              "      border-color: transparent;\n",
              "      border-right-color: var(--fill-color);\n",
              "      border-top-color: var(--fill-color);\n",
              "    }\n",
              "    60% {\n",
              "      border-color: transparent;\n",
              "      border-right-color: var(--fill-color);\n",
              "    }\n",
              "    80% {\n",
              "      border-color: transparent;\n",
              "      border-right-color: var(--fill-color);\n",
              "      border-bottom-color: var(--fill-color);\n",
              "    }\n",
              "    90% {\n",
              "      border-color: transparent;\n",
              "      border-bottom-color: var(--fill-color);\n",
              "    }\n",
              "  }\n",
              "</style>\n",
              "\n",
              "  <script>\n",
              "    async function quickchart(key) {\n",
              "      const quickchartButtonEl =\n",
              "        document.querySelector('#' + key + ' button');\n",
              "      quickchartButtonEl.disabled = true;  // To prevent multiple clicks.\n",
              "      quickchartButtonEl.classList.add('colab-df-spinner');\n",
              "      try {\n",
              "        const charts = await google.colab.kernel.invokeFunction(\n",
              "            'suggestCharts', [key], {});\n",
              "      } catch (error) {\n",
              "        console.error('Error during call to suggestCharts:', error);\n",
              "      }\n",
              "      quickchartButtonEl.classList.remove('colab-df-spinner');\n",
              "      quickchartButtonEl.classList.add('colab-df-quickchart-complete');\n",
              "    }\n",
              "    (() => {\n",
              "      let quickchartButtonEl =\n",
              "        document.querySelector('#df-7a8a6794-b23f-4db5-8ff4-f894b8da4322 button');\n",
              "      quickchartButtonEl.style.display =\n",
              "        google.colab.kernel.accessAllowed ? 'block' : 'none';\n",
              "    })();\n",
              "  </script>\n",
              "</div>\n",
              "    </div>\n",
              "  </div>\n"
            ]
          },
          "metadata": {},
          "execution_count": 2
        }
      ],
      "source": [
        "df = pd.read_csv('/content/drive/MyDrive/Colab Notebooks/file-csv/creditcard.csv')\n",
        "df.head()"
      ]
    },
    {
      "cell_type": "code",
      "execution_count": null,
      "metadata": {
        "colab": {
          "base_uri": "https://localhost:8080/",
          "height": 349
        },
        "id": "e-nRGkD4Dj1O",
        "outputId": "91a670a7-fed1-4d2f-b6fa-cfec947a0400"
      },
      "outputs": [
        {
          "output_type": "execute_result",
          "data": {
            "text/plain": [
              "                Time            V1            V2            V3            V4  \\\n",
              "count  284807.000000  2.848070e+05  2.848070e+05  2.848070e+05  2.848070e+05   \n",
              "mean    94813.859575  1.168375e-15  3.416908e-16 -1.379537e-15  2.074095e-15   \n",
              "std     47488.145955  1.958696e+00  1.651309e+00  1.516255e+00  1.415869e+00   \n",
              "min         0.000000 -5.640751e+01 -7.271573e+01 -4.832559e+01 -5.683171e+00   \n",
              "25%     54201.500000 -9.203734e-01 -5.985499e-01 -8.903648e-01 -8.486401e-01   \n",
              "50%     84692.000000  1.810880e-02  6.548556e-02  1.798463e-01 -1.984653e-02   \n",
              "75%    139320.500000  1.315642e+00  8.037239e-01  1.027196e+00  7.433413e-01   \n",
              "max    172792.000000  2.454930e+00  2.205773e+01  9.382558e+00  1.687534e+01   \n",
              "\n",
              "                 V5            V6            V7            V8            V9  \\\n",
              "count  2.848070e+05  2.848070e+05  2.848070e+05  2.848070e+05  2.848070e+05   \n",
              "mean   9.604066e-16  1.487313e-15 -5.556467e-16  1.213481e-16 -2.406331e-15   \n",
              "std    1.380247e+00  1.332271e+00  1.237094e+00  1.194353e+00  1.098632e+00   \n",
              "min   -1.137433e+02 -2.616051e+01 -4.355724e+01 -7.321672e+01 -1.343407e+01   \n",
              "25%   -6.915971e-01 -7.682956e-01 -5.540759e-01 -2.086297e-01 -6.430976e-01   \n",
              "50%   -5.433583e-02 -2.741871e-01  4.010308e-02  2.235804e-02 -5.142873e-02   \n",
              "75%    6.119264e-01  3.985649e-01  5.704361e-01  3.273459e-01  5.971390e-01   \n",
              "max    3.480167e+01  7.330163e+01  1.205895e+02  2.000721e+01  1.559499e+01   \n",
              "\n",
              "       ...           V21           V22           V23           V24  \\\n",
              "count  ...  2.848070e+05  2.848070e+05  2.848070e+05  2.848070e+05   \n",
              "mean   ...  1.654067e-16 -3.568593e-16  2.578648e-16  4.473266e-15   \n",
              "std    ...  7.345240e-01  7.257016e-01  6.244603e-01  6.056471e-01   \n",
              "min    ... -3.483038e+01 -1.093314e+01 -4.480774e+01 -2.836627e+00   \n",
              "25%    ... -2.283949e-01 -5.423504e-01 -1.618463e-01 -3.545861e-01   \n",
              "50%    ... -2.945017e-02  6.781943e-03 -1.119293e-02  4.097606e-02   \n",
              "75%    ...  1.863772e-01  5.285536e-01  1.476421e-01  4.395266e-01   \n",
              "max    ...  2.720284e+01  1.050309e+01  2.252841e+01  4.584549e+00   \n",
              "\n",
              "                V25           V26           V27           V28         Amount  \\\n",
              "count  2.848070e+05  2.848070e+05  2.848070e+05  2.848070e+05  284807.000000   \n",
              "mean   5.340915e-16  1.683437e-15 -3.660091e-16 -1.227390e-16      88.349619   \n",
              "std    5.212781e-01  4.822270e-01  4.036325e-01  3.300833e-01     250.120109   \n",
              "min   -1.029540e+01 -2.604551e+00 -2.256568e+01 -1.543008e+01       0.000000   \n",
              "25%   -3.171451e-01 -3.269839e-01 -7.083953e-02 -5.295979e-02       5.600000   \n",
              "50%    1.659350e-02 -5.213911e-02  1.342146e-03  1.124383e-02      22.000000   \n",
              "75%    3.507156e-01  2.409522e-01  9.104512e-02  7.827995e-02      77.165000   \n",
              "max    7.519589e+00  3.517346e+00  3.161220e+01  3.384781e+01   25691.160000   \n",
              "\n",
              "               Class  \n",
              "count  284807.000000  \n",
              "mean        0.001727  \n",
              "std         0.041527  \n",
              "min         0.000000  \n",
              "25%         0.000000  \n",
              "50%         0.000000  \n",
              "75%         0.000000  \n",
              "max         1.000000  \n",
              "\n",
              "[8 rows x 31 columns]"
            ],
            "text/html": [
              "\n",
              "  <div id=\"df-2c0835ae-5612-42ad-8c61-6cab4490a065\" class=\"colab-df-container\">\n",
              "    <div>\n",
              "<style scoped>\n",
              "    .dataframe tbody tr th:only-of-type {\n",
              "        vertical-align: middle;\n",
              "    }\n",
              "\n",
              "    .dataframe tbody tr th {\n",
              "        vertical-align: top;\n",
              "    }\n",
              "\n",
              "    .dataframe thead th {\n",
              "        text-align: right;\n",
              "    }\n",
              "</style>\n",
              "<table border=\"1\" class=\"dataframe\">\n",
              "  <thead>\n",
              "    <tr style=\"text-align: right;\">\n",
              "      <th></th>\n",
              "      <th>Time</th>\n",
              "      <th>V1</th>\n",
              "      <th>V2</th>\n",
              "      <th>V3</th>\n",
              "      <th>V4</th>\n",
              "      <th>V5</th>\n",
              "      <th>V6</th>\n",
              "      <th>V7</th>\n",
              "      <th>V8</th>\n",
              "      <th>V9</th>\n",
              "      <th>...</th>\n",
              "      <th>V21</th>\n",
              "      <th>V22</th>\n",
              "      <th>V23</th>\n",
              "      <th>V24</th>\n",
              "      <th>V25</th>\n",
              "      <th>V26</th>\n",
              "      <th>V27</th>\n",
              "      <th>V28</th>\n",
              "      <th>Amount</th>\n",
              "      <th>Class</th>\n",
              "    </tr>\n",
              "  </thead>\n",
              "  <tbody>\n",
              "    <tr>\n",
              "      <th>count</th>\n",
              "      <td>284807.000000</td>\n",
              "      <td>2.848070e+05</td>\n",
              "      <td>2.848070e+05</td>\n",
              "      <td>2.848070e+05</td>\n",
              "      <td>2.848070e+05</td>\n",
              "      <td>2.848070e+05</td>\n",
              "      <td>2.848070e+05</td>\n",
              "      <td>2.848070e+05</td>\n",
              "      <td>2.848070e+05</td>\n",
              "      <td>2.848070e+05</td>\n",
              "      <td>...</td>\n",
              "      <td>2.848070e+05</td>\n",
              "      <td>2.848070e+05</td>\n",
              "      <td>2.848070e+05</td>\n",
              "      <td>2.848070e+05</td>\n",
              "      <td>2.848070e+05</td>\n",
              "      <td>2.848070e+05</td>\n",
              "      <td>2.848070e+05</td>\n",
              "      <td>2.848070e+05</td>\n",
              "      <td>284807.000000</td>\n",
              "      <td>284807.000000</td>\n",
              "    </tr>\n",
              "    <tr>\n",
              "      <th>mean</th>\n",
              "      <td>94813.859575</td>\n",
              "      <td>1.168375e-15</td>\n",
              "      <td>3.416908e-16</td>\n",
              "      <td>-1.379537e-15</td>\n",
              "      <td>2.074095e-15</td>\n",
              "      <td>9.604066e-16</td>\n",
              "      <td>1.487313e-15</td>\n",
              "      <td>-5.556467e-16</td>\n",
              "      <td>1.213481e-16</td>\n",
              "      <td>-2.406331e-15</td>\n",
              "      <td>...</td>\n",
              "      <td>1.654067e-16</td>\n",
              "      <td>-3.568593e-16</td>\n",
              "      <td>2.578648e-16</td>\n",
              "      <td>4.473266e-15</td>\n",
              "      <td>5.340915e-16</td>\n",
              "      <td>1.683437e-15</td>\n",
              "      <td>-3.660091e-16</td>\n",
              "      <td>-1.227390e-16</td>\n",
              "      <td>88.349619</td>\n",
              "      <td>0.001727</td>\n",
              "    </tr>\n",
              "    <tr>\n",
              "      <th>std</th>\n",
              "      <td>47488.145955</td>\n",
              "      <td>1.958696e+00</td>\n",
              "      <td>1.651309e+00</td>\n",
              "      <td>1.516255e+00</td>\n",
              "      <td>1.415869e+00</td>\n",
              "      <td>1.380247e+00</td>\n",
              "      <td>1.332271e+00</td>\n",
              "      <td>1.237094e+00</td>\n",
              "      <td>1.194353e+00</td>\n",
              "      <td>1.098632e+00</td>\n",
              "      <td>...</td>\n",
              "      <td>7.345240e-01</td>\n",
              "      <td>7.257016e-01</td>\n",
              "      <td>6.244603e-01</td>\n",
              "      <td>6.056471e-01</td>\n",
              "      <td>5.212781e-01</td>\n",
              "      <td>4.822270e-01</td>\n",
              "      <td>4.036325e-01</td>\n",
              "      <td>3.300833e-01</td>\n",
              "      <td>250.120109</td>\n",
              "      <td>0.041527</td>\n",
              "    </tr>\n",
              "    <tr>\n",
              "      <th>min</th>\n",
              "      <td>0.000000</td>\n",
              "      <td>-5.640751e+01</td>\n",
              "      <td>-7.271573e+01</td>\n",
              "      <td>-4.832559e+01</td>\n",
              "      <td>-5.683171e+00</td>\n",
              "      <td>-1.137433e+02</td>\n",
              "      <td>-2.616051e+01</td>\n",
              "      <td>-4.355724e+01</td>\n",
              "      <td>-7.321672e+01</td>\n",
              "      <td>-1.343407e+01</td>\n",
              "      <td>...</td>\n",
              "      <td>-3.483038e+01</td>\n",
              "      <td>-1.093314e+01</td>\n",
              "      <td>-4.480774e+01</td>\n",
              "      <td>-2.836627e+00</td>\n",
              "      <td>-1.029540e+01</td>\n",
              "      <td>-2.604551e+00</td>\n",
              "      <td>-2.256568e+01</td>\n",
              "      <td>-1.543008e+01</td>\n",
              "      <td>0.000000</td>\n",
              "      <td>0.000000</td>\n",
              "    </tr>\n",
              "    <tr>\n",
              "      <th>25%</th>\n",
              "      <td>54201.500000</td>\n",
              "      <td>-9.203734e-01</td>\n",
              "      <td>-5.985499e-01</td>\n",
              "      <td>-8.903648e-01</td>\n",
              "      <td>-8.486401e-01</td>\n",
              "      <td>-6.915971e-01</td>\n",
              "      <td>-7.682956e-01</td>\n",
              "      <td>-5.540759e-01</td>\n",
              "      <td>-2.086297e-01</td>\n",
              "      <td>-6.430976e-01</td>\n",
              "      <td>...</td>\n",
              "      <td>-2.283949e-01</td>\n",
              "      <td>-5.423504e-01</td>\n",
              "      <td>-1.618463e-01</td>\n",
              "      <td>-3.545861e-01</td>\n",
              "      <td>-3.171451e-01</td>\n",
              "      <td>-3.269839e-01</td>\n",
              "      <td>-7.083953e-02</td>\n",
              "      <td>-5.295979e-02</td>\n",
              "      <td>5.600000</td>\n",
              "      <td>0.000000</td>\n",
              "    </tr>\n",
              "    <tr>\n",
              "      <th>50%</th>\n",
              "      <td>84692.000000</td>\n",
              "      <td>1.810880e-02</td>\n",
              "      <td>6.548556e-02</td>\n",
              "      <td>1.798463e-01</td>\n",
              "      <td>-1.984653e-02</td>\n",
              "      <td>-5.433583e-02</td>\n",
              "      <td>-2.741871e-01</td>\n",
              "      <td>4.010308e-02</td>\n",
              "      <td>2.235804e-02</td>\n",
              "      <td>-5.142873e-02</td>\n",
              "      <td>...</td>\n",
              "      <td>-2.945017e-02</td>\n",
              "      <td>6.781943e-03</td>\n",
              "      <td>-1.119293e-02</td>\n",
              "      <td>4.097606e-02</td>\n",
              "      <td>1.659350e-02</td>\n",
              "      <td>-5.213911e-02</td>\n",
              "      <td>1.342146e-03</td>\n",
              "      <td>1.124383e-02</td>\n",
              "      <td>22.000000</td>\n",
              "      <td>0.000000</td>\n",
              "    </tr>\n",
              "    <tr>\n",
              "      <th>75%</th>\n",
              "      <td>139320.500000</td>\n",
              "      <td>1.315642e+00</td>\n",
              "      <td>8.037239e-01</td>\n",
              "      <td>1.027196e+00</td>\n",
              "      <td>7.433413e-01</td>\n",
              "      <td>6.119264e-01</td>\n",
              "      <td>3.985649e-01</td>\n",
              "      <td>5.704361e-01</td>\n",
              "      <td>3.273459e-01</td>\n",
              "      <td>5.971390e-01</td>\n",
              "      <td>...</td>\n",
              "      <td>1.863772e-01</td>\n",
              "      <td>5.285536e-01</td>\n",
              "      <td>1.476421e-01</td>\n",
              "      <td>4.395266e-01</td>\n",
              "      <td>3.507156e-01</td>\n",
              "      <td>2.409522e-01</td>\n",
              "      <td>9.104512e-02</td>\n",
              "      <td>7.827995e-02</td>\n",
              "      <td>77.165000</td>\n",
              "      <td>0.000000</td>\n",
              "    </tr>\n",
              "    <tr>\n",
              "      <th>max</th>\n",
              "      <td>172792.000000</td>\n",
              "      <td>2.454930e+00</td>\n",
              "      <td>2.205773e+01</td>\n",
              "      <td>9.382558e+00</td>\n",
              "      <td>1.687534e+01</td>\n",
              "      <td>3.480167e+01</td>\n",
              "      <td>7.330163e+01</td>\n",
              "      <td>1.205895e+02</td>\n",
              "      <td>2.000721e+01</td>\n",
              "      <td>1.559499e+01</td>\n",
              "      <td>...</td>\n",
              "      <td>2.720284e+01</td>\n",
              "      <td>1.050309e+01</td>\n",
              "      <td>2.252841e+01</td>\n",
              "      <td>4.584549e+00</td>\n",
              "      <td>7.519589e+00</td>\n",
              "      <td>3.517346e+00</td>\n",
              "      <td>3.161220e+01</td>\n",
              "      <td>3.384781e+01</td>\n",
              "      <td>25691.160000</td>\n",
              "      <td>1.000000</td>\n",
              "    </tr>\n",
              "  </tbody>\n",
              "</table>\n",
              "<p>8 rows × 31 columns</p>\n",
              "</div>\n",
              "    <div class=\"colab-df-buttons\">\n",
              "\n",
              "  <div class=\"colab-df-container\">\n",
              "    <button class=\"colab-df-convert\" onclick=\"convertToInteractive('df-2c0835ae-5612-42ad-8c61-6cab4490a065')\"\n",
              "            title=\"Convert this dataframe to an interactive table.\"\n",
              "            style=\"display:none;\">\n",
              "\n",
              "  <svg xmlns=\"http://www.w3.org/2000/svg\" height=\"24px\" viewBox=\"0 -960 960 960\">\n",
              "    <path d=\"M120-120v-720h720v720H120Zm60-500h600v-160H180v160Zm220 220h160v-160H400v160Zm0 220h160v-160H400v160ZM180-400h160v-160H180v160Zm440 0h160v-160H620v160ZM180-180h160v-160H180v160Zm440 0h160v-160H620v160Z\"/>\n",
              "  </svg>\n",
              "    </button>\n",
              "\n",
              "  <style>\n",
              "    .colab-df-container {\n",
              "      display:flex;\n",
              "      gap: 12px;\n",
              "    }\n",
              "\n",
              "    .colab-df-convert {\n",
              "      background-color: #E8F0FE;\n",
              "      border: none;\n",
              "      border-radius: 50%;\n",
              "      cursor: pointer;\n",
              "      display: none;\n",
              "      fill: #1967D2;\n",
              "      height: 32px;\n",
              "      padding: 0 0 0 0;\n",
              "      width: 32px;\n",
              "    }\n",
              "\n",
              "    .colab-df-convert:hover {\n",
              "      background-color: #E2EBFA;\n",
              "      box-shadow: 0px 1px 2px rgba(60, 64, 67, 0.3), 0px 1px 3px 1px rgba(60, 64, 67, 0.15);\n",
              "      fill: #174EA6;\n",
              "    }\n",
              "\n",
              "    .colab-df-buttons div {\n",
              "      margin-bottom: 4px;\n",
              "    }\n",
              "\n",
              "    [theme=dark] .colab-df-convert {\n",
              "      background-color: #3B4455;\n",
              "      fill: #D2E3FC;\n",
              "    }\n",
              "\n",
              "    [theme=dark] .colab-df-convert:hover {\n",
              "      background-color: #434B5C;\n",
              "      box-shadow: 0px 1px 3px 1px rgba(0, 0, 0, 0.15);\n",
              "      filter: drop-shadow(0px 1px 2px rgba(0, 0, 0, 0.3));\n",
              "      fill: #FFFFFF;\n",
              "    }\n",
              "  </style>\n",
              "\n",
              "    <script>\n",
              "      const buttonEl =\n",
              "        document.querySelector('#df-2c0835ae-5612-42ad-8c61-6cab4490a065 button.colab-df-convert');\n",
              "      buttonEl.style.display =\n",
              "        google.colab.kernel.accessAllowed ? 'block' : 'none';\n",
              "\n",
              "      async function convertToInteractive(key) {\n",
              "        const element = document.querySelector('#df-2c0835ae-5612-42ad-8c61-6cab4490a065');\n",
              "        const dataTable =\n",
              "          await google.colab.kernel.invokeFunction('convertToInteractive',\n",
              "                                                    [key], {});\n",
              "        if (!dataTable) return;\n",
              "\n",
              "        const docLinkHtml = 'Like what you see? Visit the ' +\n",
              "          '<a target=\"_blank\" href=https://colab.research.google.com/notebooks/data_table.ipynb>data table notebook</a>'\n",
              "          + ' to learn more about interactive tables.';\n",
              "        element.innerHTML = '';\n",
              "        dataTable['output_type'] = 'display_data';\n",
              "        await google.colab.output.renderOutput(dataTable, element);\n",
              "        const docLink = document.createElement('div');\n",
              "        docLink.innerHTML = docLinkHtml;\n",
              "        element.appendChild(docLink);\n",
              "      }\n",
              "    </script>\n",
              "  </div>\n",
              "\n",
              "\n",
              "<div id=\"df-f14a5eec-6405-4262-a4fd-2bc1372bcd9a\">\n",
              "  <button class=\"colab-df-quickchart\" onclick=\"quickchart('df-f14a5eec-6405-4262-a4fd-2bc1372bcd9a')\"\n",
              "            title=\"Suggest charts\"\n",
              "            style=\"display:none;\">\n",
              "\n",
              "<svg xmlns=\"http://www.w3.org/2000/svg\" height=\"24px\"viewBox=\"0 0 24 24\"\n",
              "     width=\"24px\">\n",
              "    <g>\n",
              "        <path d=\"M19 3H5c-1.1 0-2 .9-2 2v14c0 1.1.9 2 2 2h14c1.1 0 2-.9 2-2V5c0-1.1-.9-2-2-2zM9 17H7v-7h2v7zm4 0h-2V7h2v10zm4 0h-2v-4h2v4z\"/>\n",
              "    </g>\n",
              "</svg>\n",
              "  </button>\n",
              "\n",
              "<style>\n",
              "  .colab-df-quickchart {\n",
              "      --bg-color: #E8F0FE;\n",
              "      --fill-color: #1967D2;\n",
              "      --hover-bg-color: #E2EBFA;\n",
              "      --hover-fill-color: #174EA6;\n",
              "      --disabled-fill-color: #AAA;\n",
              "      --disabled-bg-color: #DDD;\n",
              "  }\n",
              "\n",
              "  [theme=dark] .colab-df-quickchart {\n",
              "      --bg-color: #3B4455;\n",
              "      --fill-color: #D2E3FC;\n",
              "      --hover-bg-color: #434B5C;\n",
              "      --hover-fill-color: #FFFFFF;\n",
              "      --disabled-bg-color: #3B4455;\n",
              "      --disabled-fill-color: #666;\n",
              "  }\n",
              "\n",
              "  .colab-df-quickchart {\n",
              "    background-color: var(--bg-color);\n",
              "    border: none;\n",
              "    border-radius: 50%;\n",
              "    cursor: pointer;\n",
              "    display: none;\n",
              "    fill: var(--fill-color);\n",
              "    height: 32px;\n",
              "    padding: 0;\n",
              "    width: 32px;\n",
              "  }\n",
              "\n",
              "  .colab-df-quickchart:hover {\n",
              "    background-color: var(--hover-bg-color);\n",
              "    box-shadow: 0 1px 2px rgba(60, 64, 67, 0.3), 0 1px 3px 1px rgba(60, 64, 67, 0.15);\n",
              "    fill: var(--button-hover-fill-color);\n",
              "  }\n",
              "\n",
              "  .colab-df-quickchart-complete:disabled,\n",
              "  .colab-df-quickchart-complete:disabled:hover {\n",
              "    background-color: var(--disabled-bg-color);\n",
              "    fill: var(--disabled-fill-color);\n",
              "    box-shadow: none;\n",
              "  }\n",
              "\n",
              "  .colab-df-spinner {\n",
              "    border: 2px solid var(--fill-color);\n",
              "    border-color: transparent;\n",
              "    border-bottom-color: var(--fill-color);\n",
              "    animation:\n",
              "      spin 1s steps(1) infinite;\n",
              "  }\n",
              "\n",
              "  @keyframes spin {\n",
              "    0% {\n",
              "      border-color: transparent;\n",
              "      border-bottom-color: var(--fill-color);\n",
              "      border-left-color: var(--fill-color);\n",
              "    }\n",
              "    20% {\n",
              "      border-color: transparent;\n",
              "      border-left-color: var(--fill-color);\n",
              "      border-top-color: var(--fill-color);\n",
              "    }\n",
              "    30% {\n",
              "      border-color: transparent;\n",
              "      border-left-color: var(--fill-color);\n",
              "      border-top-color: var(--fill-color);\n",
              "      border-right-color: var(--fill-color);\n",
              "    }\n",
              "    40% {\n",
              "      border-color: transparent;\n",
              "      border-right-color: var(--fill-color);\n",
              "      border-top-color: var(--fill-color);\n",
              "    }\n",
              "    60% {\n",
              "      border-color: transparent;\n",
              "      border-right-color: var(--fill-color);\n",
              "    }\n",
              "    80% {\n",
              "      border-color: transparent;\n",
              "      border-right-color: var(--fill-color);\n",
              "      border-bottom-color: var(--fill-color);\n",
              "    }\n",
              "    90% {\n",
              "      border-color: transparent;\n",
              "      border-bottom-color: var(--fill-color);\n",
              "    }\n",
              "  }\n",
              "</style>\n",
              "\n",
              "  <script>\n",
              "    async function quickchart(key) {\n",
              "      const quickchartButtonEl =\n",
              "        document.querySelector('#' + key + ' button');\n",
              "      quickchartButtonEl.disabled = true;  // To prevent multiple clicks.\n",
              "      quickchartButtonEl.classList.add('colab-df-spinner');\n",
              "      try {\n",
              "        const charts = await google.colab.kernel.invokeFunction(\n",
              "            'suggestCharts', [key], {});\n",
              "      } catch (error) {\n",
              "        console.error('Error during call to suggestCharts:', error);\n",
              "      }\n",
              "      quickchartButtonEl.classList.remove('colab-df-spinner');\n",
              "      quickchartButtonEl.classList.add('colab-df-quickchart-complete');\n",
              "    }\n",
              "    (() => {\n",
              "      let quickchartButtonEl =\n",
              "        document.querySelector('#df-f14a5eec-6405-4262-a4fd-2bc1372bcd9a button');\n",
              "      quickchartButtonEl.style.display =\n",
              "        google.colab.kernel.accessAllowed ? 'block' : 'none';\n",
              "    })();\n",
              "  </script>\n",
              "</div>\n",
              "    </div>\n",
              "  </div>\n"
            ]
          },
          "metadata": {},
          "execution_count": 3
        }
      ],
      "source": [
        "df.describe()"
      ]
    },
    {
      "cell_type": "code",
      "execution_count": null,
      "metadata": {
        "colab": {
          "base_uri": "https://localhost:8080/"
        },
        "id": "p44M13fXDl0r",
        "outputId": "c1878ff2-e86f-4792-fc83-32aeb0ffc2b5"
      },
      "outputs": [
        {
          "output_type": "execute_result",
          "data": {
            "text/plain": [
              "0"
            ]
          },
          "metadata": {},
          "execution_count": 4
        }
      ],
      "source": [
        "df.isnull().sum().max()"
      ]
    },
    {
      "cell_type": "code",
      "execution_count": null,
      "metadata": {
        "colab": {
          "base_uri": "https://localhost:8080/"
        },
        "id": "BmAqoonKEH61",
        "outputId": "01bf4151-ffda-4f12-f869-ec76b37c7913"
      },
      "outputs": [
        {
          "output_type": "stream",
          "name": "stdout",
          "text": [
            "<class 'pandas.core.frame.DataFrame'>\n",
            "RangeIndex: 284807 entries, 0 to 284806\n",
            "Data columns (total 31 columns):\n",
            " #   Column  Non-Null Count   Dtype  \n",
            "---  ------  --------------   -----  \n",
            " 0   Time    284807 non-null  float64\n",
            " 1   V1      284807 non-null  float64\n",
            " 2   V2      284807 non-null  float64\n",
            " 3   V3      284807 non-null  float64\n",
            " 4   V4      284807 non-null  float64\n",
            " 5   V5      284807 non-null  float64\n",
            " 6   V6      284807 non-null  float64\n",
            " 7   V7      284807 non-null  float64\n",
            " 8   V8      284807 non-null  float64\n",
            " 9   V9      284807 non-null  float64\n",
            " 10  V10     284807 non-null  float64\n",
            " 11  V11     284807 non-null  float64\n",
            " 12  V12     284807 non-null  float64\n",
            " 13  V13     284807 non-null  float64\n",
            " 14  V14     284807 non-null  float64\n",
            " 15  V15     284807 non-null  float64\n",
            " 16  V16     284807 non-null  float64\n",
            " 17  V17     284807 non-null  float64\n",
            " 18  V18     284807 non-null  float64\n",
            " 19  V19     284807 non-null  float64\n",
            " 20  V20     284807 non-null  float64\n",
            " 21  V21     284807 non-null  float64\n",
            " 22  V22     284807 non-null  float64\n",
            " 23  V23     284807 non-null  float64\n",
            " 24  V24     284807 non-null  float64\n",
            " 25  V25     284807 non-null  float64\n",
            " 26  V26     284807 non-null  float64\n",
            " 27  V27     284807 non-null  float64\n",
            " 28  V28     284807 non-null  float64\n",
            " 29  Amount  284807 non-null  float64\n",
            " 30  Class   284807 non-null  int64  \n",
            "dtypes: float64(30), int64(1)\n",
            "memory usage: 67.4 MB\n"
          ]
        },
        {
          "output_type": "execute_result",
          "data": {
            "text/plain": [
              "(284807, 31)"
            ]
          },
          "metadata": {},
          "execution_count": 5
        }
      ],
      "source": [
        "df.info()\n",
        "df.shape"
      ]
    },
    {
      "cell_type": "code",
      "execution_count": null,
      "metadata": {
        "colab": {
          "base_uri": "https://localhost:8080/"
        },
        "id": "81ZyLeKcELf8",
        "outputId": "125d4434-4173-4346-b759-6310bacc5269"
      },
      "outputs": [
        {
          "output_type": "stream",
          "name": "stdout",
          "text": [
            "Giao dịch hợp lệ:  99.83 %\n",
            "Giao dịch gian lận:  0.17 %\n"
          ]
        }
      ],
      "source": [
        "print('Giao dịch hợp lệ: ', round(df['Class'].value_counts()[0]/len(df) * 100,2),'%')\n",
        "print('Giao dịch gian lận: ', round(df['Class'].value_counts()[1]/len(df) * 100,2),'%')"
      ]
    },
    {
      "cell_type": "markdown",
      "metadata": {
        "id": "6JkcXU_zkIZ6"
      },
      "source": [
        "Số giao dịch gian lận"
      ]
    },
    {
      "cell_type": "code",
      "execution_count": null,
      "metadata": {
        "colab": {
          "base_uri": "https://localhost:8080/"
        },
        "id": "FtIZOEnUqAH7",
        "outputId": "1d3eb88b-4adf-4889-f02f-0d1b54db3969"
      },
      "outputs": [
        {
          "output_type": "execute_result",
          "data": {
            "text/plain": [
              "492"
            ]
          },
          "metadata": {},
          "execution_count": 7
        }
      ],
      "source": [
        "df['Class'].value_counts()[1]"
      ]
    },
    {
      "cell_type": "code",
      "execution_count": null,
      "metadata": {
        "colab": {
          "base_uri": "https://localhost:8080/",
          "height": 563
        },
        "id": "mZUYCayrEahy",
        "outputId": "f426b00f-55c0-4a71-f3c7-809b9814dd87"
      },
      "outputs": [
        {
          "output_type": "execute_result",
          "data": {
            "text/plain": [
              "Text(0.5, 1.0, 'Phân phối số lượng giao dịch \\n (0: Hợp lệ || 1: Gian lận)')"
            ]
          },
          "metadata": {},
          "execution_count": 8
        },
        {
          "output_type": "display_data",
          "data": {
            "text/plain": [
              "<Figure size 640x480 with 1 Axes>"
            ],
            "image/png": "[encoded data removed]"
          },
          "metadata": {}
        }
      ],
      "source": [
        "colors = [\"#10A15A\", \"#F01C00\"]\n",
        "\n",
        "sns.countplot(x='Class', data=df, palette=colors)\n",
        "plt.title('Phân phối số lượng giao dịch \\n (0: Hợp lệ || 1: Gian lận)', fontsize=30)"
      ]
    },
    {
      "cell_type": "markdown",
      "metadata": {
        "id": "eCvQ1n7CFOBi"
      },
      "source": [
        "Chuẩn hóa data"
      ]
    },
    {
      "cell_type": "markdown",
      "metadata": {
        "id": "zBzy-OW5jkCo"
      },
      "source": [
        "Robust Scaler: sử dụng phạm vi tứ phân vị -> mạnh mẽ đối với outlier\n",
        "\n",
        "ko loại bỏ hoàn toàn outlier\n",
        "\n",
        "ko làm thay đổi hình dạng phân bố của 1 thuộc tính\n",
        "\n",
        "công thức: (gtri hiện tại - gtri tại điểm trung vị)/(gtri tại pvi 75 - gtri tại pvi 25)"
      ]
    },
    {
      "cell_type": "code",
      "execution_count": null,
      "metadata": {
        "id": "k0iwgPStFJiK"
      },
      "outputs": [],
      "source": [
        "from sklearn.preprocessing import RobustScaler\n",
        "\n",
        "rob_scaler = RobustScaler()\n",
        "\n",
        "df['scaled_amount'] = rob_scaler.fit_transform(df['Amount'].values.reshape(-1,1))\n",
        "df['scaled_time'] = rob_scaler.fit_transform(df['Time'].values.reshape(-1,1))\n",
        "\n",
        "df.drop(['Time','Amount'], axis=1, inplace=True)"
      ]
    },
    {
      "cell_type": "code",
      "execution_count": null,
      "metadata": {
        "colab": {
          "base_uri": "https://localhost:8080/",
          "height": 423
        },
        "id": "W38lIYtxFQrG",
        "outputId": "5a95637e-9212-4558-b104-15829537b2a7"
      },
      "outputs": [
        {
          "output_type": "execute_result",
          "data": {
            "text/plain": [
              "        scaled_amount  scaled_time\n",
              "0            1.783274    -0.994983\n",
              "1           -0.269825    -0.994983\n",
              "2            4.983721    -0.994972\n",
              "3            1.418291    -0.994972\n",
              "4            0.670579    -0.994960\n",
              "...               ...          ...\n",
              "284802      -0.296653     1.034951\n",
              "284803       0.038986     1.034963\n",
              "284804       0.641096     1.034975\n",
              "284805      -0.167680     1.034975\n",
              "284806       2.724796     1.035022\n",
              "\n",
              "[284807 rows x 2 columns]"
            ],
            "text/html": [
              "\n",
              "  <div id=\"df-133aff6f-080e-4e43-a0cd-072edf63239b\" class=\"colab-df-container\">\n",
              "    <div>\n",
              "<style scoped>\n",
              "    .dataframe tbody tr th:only-of-type {\n",
              "        vertical-align: middle;\n",
              "    }\n",
              "\n",
              "    .dataframe tbody tr th {\n",
              "        vertical-align: top;\n",
              "    }\n",
              "\n",
              "    .dataframe thead th {\n",
              "        text-align: right;\n",
              "    }\n",
              "</style>\n",
              "<table border=\"1\" class=\"dataframe\">\n",
              "  <thead>\n",
              "    <tr style=\"text-align: right;\">\n",
              "      <th></th>\n",
              "      <th>scaled_amount</th>\n",
              "      <th>scaled_time</th>\n",
              "    </tr>\n",
              "  </thead>\n",
              "  <tbody>\n",
              "    <tr>\n",
              "      <th>0</th>\n",
              "      <td>1.783274</td>\n",
              "      <td>-0.994983</td>\n",
              "    </tr>\n",
              "    <tr>\n",
              "      <th>1</th>\n",
              "      <td>-0.269825</td>\n",
              "      <td>-0.994983</td>\n",
              "    </tr>\n",
              "    <tr>\n",
              "      <th>2</th>\n",
              "      <td>4.983721</td>\n",
              "      <td>-0.994972</td>\n",
              "    </tr>\n",
              "    <tr>\n",
              "      <th>3</th>\n",
              "      <td>1.418291</td>\n",
              "      <td>-0.994972</td>\n",
              "    </tr>\n",
              "    <tr>\n",
              "      <th>4</th>\n",
              "      <td>0.670579</td>\n",
              "      <td>-0.994960</td>\n",
              "    </tr>\n",
              "    <tr>\n",
              "      <th>...</th>\n",
              "      <td>...</td>\n",
              "      <td>...</td>\n",
              "    </tr>\n",
              "    <tr>\n",
              "      <th>284802</th>\n",
              "      <td>-0.296653</td>\n",
              "      <td>1.034951</td>\n",
              "    </tr>\n",
              "    <tr>\n",
              "      <th>284803</th>\n",
              "      <td>0.038986</td>\n",
              "      <td>1.034963</td>\n",
              "    </tr>\n",
              "    <tr>\n",
              "      <th>284804</th>\n",
              "      <td>0.641096</td>\n",
              "      <td>1.034975</td>\n",
              "    </tr>\n",
              "    <tr>\n",
              "      <th>284805</th>\n",
              "      <td>-0.167680</td>\n",
              "      <td>1.034975</td>\n",
              "    </tr>\n",
              "    <tr>\n",
              "      <th>284806</th>\n",
              "      <td>2.724796</td>\n",
              "      <td>1.035022</td>\n",
              "    </tr>\n",
              "  </tbody>\n",
              "</table>\n",
              "<p>284807 rows × 2 columns</p>\n",
              "</div>\n",
              "    <div class=\"colab-df-buttons\">\n",
              "\n",
              "  <div class=\"colab-df-container\">\n",
              "    <button class=\"colab-df-convert\" onclick=\"convertToInteractive('df-133aff6f-080e-4e43-a0cd-072edf63239b')\"\n",
              "            title=\"Convert this dataframe to an interactive table.\"\n",
              "            style=\"display:none;\">\n",
              "\n",
              "  <svg xmlns=\"http://www.w3.org/2000/svg\" height=\"24px\" viewBox=\"0 -960 960 960\">\n",
              "    <path d=\"M120-120v-720h720v720H120Zm60-500h600v-160H180v160Zm220 220h160v-160H400v160Zm0 220h160v-160H400v160ZM180-400h160v-160H180v160Zm440 0h160v-160H620v160ZM180-180h160v-160H180v160Zm440 0h160v-160H620v160Z\"/>\n",
              "  </svg>\n",
              "    </button>\n",
              "\n",
              "  <style>\n",
              "    .colab-df-container {\n",
              "      display:flex;\n",
              "      gap: 12px;\n",
              "    }\n",
              "\n",
              "    .colab-df-convert {\n",
              "      background-color: #E8F0FE;\n",
              "      border: none;\n",
              "      border-radius: 50%;\n",
              "      cursor: pointer;\n",
              "      display: none;\n",
              "      fill: #1967D2;\n",
              "      height: 32px;\n",
              "      padding: 0 0 0 0;\n",
              "      width: 32px;\n",
              "    }\n",
              "\n",
              "    .colab-df-convert:hover {\n",
              "      background-color: #E2EBFA;\n",
              "      box-shadow: 0px 1px 2px rgba(60, 64, 67, 0.3), 0px 1px 3px 1px rgba(60, 64, 67, 0.15);\n",
              "      fill: #174EA6;\n",
              "    }\n",
              "\n",
              "    .colab-df-buttons div {\n",
              "      margin-bottom: 4px;\n",
              "    }\n",
              "\n",
              "    [theme=dark] .colab-df-convert {\n",
              "      background-color: #3B4455;\n",
              "      fill: #D2E3FC;\n",
              "    }\n",
              "\n",
              "    [theme=dark] .colab-df-convert:hover {\n",
              "      background-color: #434B5C;\n",
              "      box-shadow: 0px 1px 3px 1px rgba(0, 0, 0, 0.15);\n",
              "      filter: drop-shadow(0px 1px 2px rgba(0, 0, 0, 0.3));\n",
              "      fill: #FFFFFF;\n",
              "    }\n",
              "  </style>\n",
              "\n",
              "    <script>\n",
              "      const buttonEl =\n",
              "        document.querySelector('#df-133aff6f-080e-4e43-a0cd-072edf63239b button.colab-df-convert');\n",
              "      buttonEl.style.display =\n",
              "        google.colab.kernel.accessAllowed ? 'block' : 'none';\n",
              "\n",
              "      async function convertToInteractive(key) {\n",
              "        const element = document.querySelector('#df-133aff6f-080e-4e43-a0cd-072edf63239b');\n",
              "        const dataTable =\n",
              "          await google.colab.kernel.invokeFunction('convertToInteractive',\n",
              "                                                    [key], {});\n",
              "        if (!dataTable) return;\n",
              "\n",
              "        const docLinkHtml = 'Like what you see? Visit the ' +\n",
              "          '<a target=\"_blank\" href=https://colab.research.google.com/notebooks/data_table.ipynb>data table notebook</a>'\n",
              "          + ' to learn more about interactive tables.';\n",
              "        element.innerHTML = '';\n",
              "        dataTable['output_type'] = 'display_data';\n",
              "        await google.colab.output.renderOutput(dataTable, element);\n",
              "        const docLink = document.createElement('div');\n",
              "        docLink.innerHTML = docLinkHtml;\n",
              "        element.appendChild(docLink);\n",
              "      }\n",
              "    </script>\n",
              "  </div>\n",
              "\n",
              "\n",
              "<div id=\"df-3fba92bc-e1c1-468d-bd8e-22a69d84e91c\">\n",
              "  <button class=\"colab-df-quickchart\" onclick=\"quickchart('df-3fba92bc-e1c1-468d-bd8e-22a69d84e91c')\"\n",
              "            title=\"Suggest charts\"\n",
              "            style=\"display:none;\">\n",
              "\n",
              "<svg xmlns=\"http://www.w3.org/2000/svg\" height=\"24px\"viewBox=\"0 0 24 24\"\n",
              "     width=\"24px\">\n",
              "    <g>\n",
              "        <path d=\"M19 3H5c-1.1 0-2 .9-2 2v14c0 1.1.9 2 2 2h14c1.1 0 2-.9 2-2V5c0-1.1-.9-2-2-2zM9 17H7v-7h2v7zm4 0h-2V7h2v10zm4 0h-2v-4h2v4z\"/>\n",
              "    </g>\n",
              "</svg>\n",
              "  </button>\n",
              "\n",
              "<style>\n",
              "  .colab-df-quickchart {\n",
              "      --bg-color: #E8F0FE;\n",
              "      --fill-color: #1967D2;\n",
              "      --hover-bg-color: #E2EBFA;\n",
              "      --hover-fill-color: #174EA6;\n",
              "      --disabled-fill-color: #AAA;\n",
              "      --disabled-bg-color: #DDD;\n",
              "  }\n",
              "\n",
              "  [theme=dark] .colab-df-quickchart {\n",
              "      --bg-color: #3B4455;\n",
              "      --fill-color: #D2E3FC;\n",
              "      --hover-bg-color: #434B5C;\n",
              "      --hover-fill-color: #FFFFFF;\n",
              "      --disabled-bg-color: #3B4455;\n",
              "      --disabled-fill-color: #666;\n",
              "  }\n",
              "\n",
              "  .colab-df-quickchart {\n",
              "    background-color: var(--bg-color);\n",
              "    border: none;\n",
              "    border-radius: 50%;\n",
              "    cursor: pointer;\n",
              "    display: none;\n",
              "    fill: var(--fill-color);\n",
              "    height: 32px;\n",
              "    padding: 0;\n",
              "    width: 32px;\n",
              "  }\n",
              "\n",
              "  .colab-df-quickchart:hover {\n",
              "    background-color: var(--hover-bg-color);\n",
              "    box-shadow: 0 1px 2px rgba(60, 64, 67, 0.3), 0 1px 3px 1px rgba(60, 64, 67, 0.15);\n",
              "    fill: var(--button-hover-fill-color);\n",
              "  }\n",
              "\n",
              "  .colab-df-quickchart-complete:disabled,\n",
              "  .colab-df-quickchart-complete:disabled:hover {\n",
              "    background-color: var(--disabled-bg-color);\n",
              "    fill: var(--disabled-fill-color);\n",
              "    box-shadow: none;\n",
              "  }\n",
              "\n",
              "  .colab-df-spinner {\n",
              "    border: 2px solid var(--fill-color);\n",
              "    border-color: transparent;\n",
              "    border-bottom-color: var(--fill-color);\n",
              "    animation:\n",
              "      spin 1s steps(1) infinite;\n",
              "  }\n",
              "\n",
              "  @keyframes spin {\n",
              "    0% {\n",
              "      border-color: transparent;\n",
              "      border-bottom-color: var(--fill-color);\n",
              "      border-left-color: var(--fill-color);\n",
              "    }\n",
              "    20% {\n",
              "      border-color: transparent;\n",
              "      border-left-color: var(--fill-color);\n",
              "      border-top-color: var(--fill-color);\n",
              "    }\n",
              "    30% {\n",
              "      border-color: transparent;\n",
              "      border-left-color: var(--fill-color);\n",
              "      border-top-color: var(--fill-color);\n",
              "      border-right-color: var(--fill-color);\n",
              "    }\n",
              "    40% {\n",
              "      border-color: transparent;\n",
              "      border-right-color: var(--fill-color);\n",
              "      border-top-color: var(--fill-color);\n",
              "    }\n",
              "    60% {\n",
              "      border-color: transparent;\n",
              "      border-right-color: var(--fill-color);\n",
              "    }\n",
              "    80% {\n",
              "      border-color: transparent;\n",
              "      border-right-color: var(--fill-color);\n",
              "      border-bottom-color: var(--fill-color);\n",
              "    }\n",
              "    90% {\n",
              "      border-color: transparent;\n",
              "      border-bottom-color: var(--fill-color);\n",
              "    }\n",
              "  }\n",
              "</style>\n",
              "\n",
              "  <script>\n",
              "    async function quickchart(key) {\n",
              "      const quickchartButtonEl =\n",
              "        document.querySelector('#' + key + ' button');\n",
              "      quickchartButtonEl.disabled = true;  // To prevent multiple clicks.\n",
              "      quickchartButtonEl.classList.add('colab-df-spinner');\n",
              "      try {\n",
              "        const charts = await google.colab.kernel.invokeFunction(\n",
              "            'suggestCharts', [key], {});\n",
              "      } catch (error) {\n",
              "        console.error('Error during call to suggestCharts:', error);\n",
              "      }\n",
              "      quickchartButtonEl.classList.remove('colab-df-spinner');\n",
              "      quickchartButtonEl.classList.add('colab-df-quickchart-complete');\n",
              "    }\n",
              "    (() => {\n",
              "      let quickchartButtonEl =\n",
              "        document.querySelector('#df-3fba92bc-e1c1-468d-bd8e-22a69d84e91c button');\n",
              "      quickchartButtonEl.style.display =\n",
              "        google.colab.kernel.accessAllowed ? 'block' : 'none';\n",
              "    })();\n",
              "  </script>\n",
              "</div>\n",
              "    </div>\n",
              "  </div>\n"
            ]
          },
          "metadata": {},
          "execution_count": 10
        }
      ],
      "source": [
        "scaled_amount = df['scaled_amount']\n",
        "scaled_time = df['scaled_time']\n",
        "\n",
        "df.drop(['scaled_amount', 'scaled_time'], axis=1, inplace=True)\n",
        "df.insert(0, 'scaled_amount', scaled_amount)\n",
        "df.insert(1, 'scaled_time', scaled_time)\n",
        "\n",
        "df[['scaled_amount', 'scaled_time']]"
      ]
    },
    {
      "cell_type": "markdown",
      "metadata": {
        "id": "_H0ZtbmvFY1_"
      },
      "source": [
        "Chia data từ data gốc (để test và đánh giá)"
      ]
    },
    {
      "cell_type": "markdown",
      "metadata": {
        "id": "MwiqwGGZtTUm"
      },
      "source": [
        "StratifiedKFold:\n",
        "\n",
        "- Dữ liệu không cân bằng: Khi bạn đang làm việc với dữ liệu không cân bằng, đặc biệt là khi phân phối của các lớp là quan trọng, StratifiedKFold sẽ là lựa chọn tốt để đảm bảo rằng các fold có phân phối lớp tương tự nhau.\n",
        "- Phân loại đa lớp: Khi làm việc với bài toán phân loại đa lớp, StratifiedKFold sẽ giữ cho mỗi fold có phân phối các lớp tương tự nhau, giúp đánh giá hiệu suất mô hình một cách chính xác hơn.\n",
        "\n",
        "KFold:\n",
        "\n",
        "- Dữ liệu cân bằng: Khi dữ liệu có phân phối đồng đều giữa các lớp, KFold có thể được sử dụng một cách hiệu quả để chia dữ liệu một cách ngẫu nhiên thành các fold.\n",
        "- Mô hình hồi quy: Trong một số trường hợp, đặc biệt là khi bạn đang làm việc với các mô hình hồi quy, KFold có thể đủ để đánh giá hiệu suất của mô hình mà không cần sự chính xác cao trong việc chia dữ liệu."
      ]
    },
    {
      "cell_type": "markdown",
      "metadata": {
        "id": "lO9inc57tsbY"
      },
      "source": [
        "StratifiedKFold:\n",
        "\n",
        "- Sử dụng StratifiedKFold khi bạn làm việc với tập dữ liệu không cân bằng, tức là các lớp (các nhóm) trong dữ liệu có phân phối không đồng đều. Trong trường hợp này, StratifiedKFold đảm bảo rằng phân phối của các lớp trong tập huấn luyện và tập kiểm tra giữ nguyên tính cân bằng.\n",
        "\n",
        "- Đặc biệt hữu ích cho bài toán phân loại (classification) khi bạn muốn đảm bảo rằng mô hình được đánh giá trên các tập kiểm tra đại diện cho tất cả các lớp.\n",
        "\n",
        "KFold:\n",
        "\n",
        "- Sử dụng KFold khi bạn làm việc với tập dữ liệu có phân phối lớp cân bằng hoặc không có vấn đề về cân bằng lớp.\n",
        "\n",
        "- Thích hợp khi bạn cần thực hiện kiểm tra hiệu suất trên tập dữ liệu mà không có yêu cầu đặc biệt về tính cân bằng của các lớp."
      ]
    },
    {
      "cell_type": "markdown",
      "metadata": {
        "id": "8xZ3Q6gXM2GZ"
      },
      "source": [
        "trộn data của tập X rồi chia ra 5 phần"
      ]
    },
    {
      "cell_type": "code",
      "execution_count": null,
      "metadata": {
        "colab": {
          "base_uri": "https://localhost:8080/"
        },
        "id": "KbBfO69UFbZ-",
        "outputId": "1e298764-0770-4aff-94b6-a05ce3dcfd62"
      },
      "outputs": [
        {
          "output_type": "stream",
          "name": "stdout",
          "text": [
            "Train: [ 30473  30496  31002 ... 284804 284805 284806] Test: [    0     1     2 ... 57017 57018 57019]\n",
            "(227845, 30)\n",
            "Train: [     0      1      2 ... 284804 284805 284806] Test: [ 30473  30496  31002 ... 113964 113965 113966]\n",
            "(227845, 30)\n",
            "Train: [     0      1      2 ... 284804 284805 284806] Test: [ 81609  82400  83053 ... 170946 170947 170948]\n",
            "(227846, 30)\n",
            "Train: [     0      1      2 ... 284804 284805 284806] Test: [150654 150660 150661 ... 227866 227867 227868]\n",
            "(227846, 30)\n",
            "Train: [     0      1      2 ... 227866 227867 227868] Test: [212516 212644 213092 ... 284804 284805 284806]\n",
            "(227846, 30)\n"
          ]
        }
      ],
      "source": [
        "from sklearn.model_selection import StratifiedKFold #phân chia cho việc kiểm tra và đánh giá mô hình\n",
        "\n",
        "X = df.drop('Class', axis=1)\n",
        "y = df['Class']\n",
        "\n",
        "sss = StratifiedKFold(n_splits=5, random_state=None, shuffle=False) #chia tập thành 5 phần, shuffle xáo trộn data\n",
        "\n",
        "for train_index, test_index in sss.split(X, y):\n",
        "    print(\"Train:\", train_index, \"Test:\", test_index)\n",
        "    original_Xtrain, original_Xtest = X.iloc[train_index], X.iloc[test_index]\n",
        "    original_ytrain, original_ytest = y.iloc[train_index], y.iloc[test_index]\n",
        "    print(original_Xtrain.shape)"
      ]
    },
    {
      "cell_type": "code",
      "execution_count": null,
      "metadata": {
        "colab": {
          "base_uri": "https://localhost:8080/"
        },
        "id": "AD9bAl54D8eN",
        "outputId": "d088a300-48a3-4b1b-ab5c-8d315d202cb9"
      },
      "outputs": [
        {
          "output_type": "execute_result",
          "data": {
            "text/plain": [
              "(284807, 30)"
            ]
          },
          "metadata": {},
          "execution_count": 12
        }
      ],
      "source": [
        "X.shape"
      ]
    },
    {
      "cell_type": "code",
      "execution_count": null,
      "metadata": {
        "colab": {
          "base_uri": "https://localhost:8080/"
        },
        "id": "d9kNe7ckJ2tR",
        "outputId": "5c619f25-c5ae-44d4-d45d-59667eec6089"
      },
      "outputs": [
        {
          "output_type": "execute_result",
          "data": {
            "text/plain": [
              "(227846, 30)"
            ]
          },
          "metadata": {},
          "execution_count": 13
        }
      ],
      "source": [
        "#80% tập train\n",
        "original_Xtrain.shape"
      ]
    },
    {
      "cell_type": "code",
      "execution_count": null,
      "metadata": {
        "colab": {
          "base_uri": "https://localhost:8080/"
        },
        "id": "JN0-svSDLPpF",
        "outputId": "5ac91de0-5bda-464e-930a-50229d758575"
      },
      "outputs": [
        {
          "output_type": "stream",
          "name": "stdout",
          "text": [
            "(227846,)\n",
            "(56961,)\n"
          ]
        }
      ],
      "source": [
        "print(train_index.shape)\n",
        "print(test_index.shape)"
      ]
    },
    {
      "cell_type": "code",
      "execution_count": null,
      "metadata": {
        "colab": {
          "base_uri": "https://localhost:8080/"
        },
        "id": "zohqFyGvFgr1",
        "outputId": "565e8920-f078-4f94-d499-2fb8319b4b54"
      },
      "outputs": [
        {
          "output_type": "stream",
          "name": "stdout",
          "text": [
            "Label Distributions: \n",
            "\n",
            "[0.99827076 0.00172924]\n",
            "[0.99827952 0.00172048]\n"
          ]
        }
      ],
      "source": [
        "# Chuyển Dataframe thành ma trận numpy\n",
        "original_Xtrain = original_Xtrain.values\n",
        "original_Xtest = original_Xtest.values\n",
        "original_ytrain = original_ytrain.values\n",
        "original_ytest = original_ytest.values\n",
        "\n",
        "#tính toán số lượng các nhãn (labels) duy nhất và số lần xuất hiện của mỗi nhãn trong tập huấn luyện original_ytrain\n",
        "#train_unique_label chứa các nhãn duy nhất và train_counts_label chứa số lần xuất hiện tương ứng của các nhãn.\n",
        "train_unique_label, train_counts_label = np.unique(original_ytrain, return_counts=True)\n",
        "\n",
        "#test_unique_label chứa các nhãn duy nhất và test_counts_label chứa số lần xuất hiện tương ứng của các nhãn.\n",
        "test_unique_label, test_counts_label = np.unique(original_ytest, return_counts=True)\n",
        "\n",
        "print('Label Distributions: \\n')\n",
        "print(train_counts_label/ len(original_ytrain))\n",
        "print(test_counts_label/ len(original_ytest))\n"
      ]
    },
    {
      "cell_type": "code",
      "execution_count": null,
      "metadata": {
        "colab": {
          "base_uri": "https://localhost:8080/"
        },
        "id": "h1KjO6c8Jb3z",
        "outputId": "1d1d43c5-64cc-4f52-f529-2da1ea1b5912"
      },
      "outputs": [
        {
          "output_type": "execute_result",
          "data": {
            "text/plain": [
              "(227846, 30)"
            ]
          },
          "metadata": {},
          "execution_count": 16
        }
      ],
      "source": [
        "original_Xtrain.shape"
      ]
    },
    {
      "cell_type": "markdown",
      "metadata": {
        "id": "inVkJVwxFyPn"
      },
      "source": [
        "Tạo bộ data con"
      ]
    },
    {
      "cell_type": "markdown",
      "metadata": {
        "id": "xnWBlMW9F2Qp"
      },
      "source": [
        "Lấy random mẫu"
      ]
    },
    {
      "cell_type": "code",
      "execution_count": null,
      "metadata": {
        "colab": {
          "base_uri": "https://localhost:8080/"
        },
        "id": "1UzHudK7Fz3k",
        "outputId": "ed94434d-859e-4a15-f270-f3c1922f9bba"
      },
      "outputs": [
        {
          "output_type": "stream",
          "name": "stdout",
          "text": [
            "Kích thước của Dataframe sau khi tạo bộ dữ liệu con: (984, 31)\n",
            "Kích thước của Dataframe giao dịch gian lận sau khi tạo bộ dữ liệu con: (492, 31)\n",
            "Kích thước của Dataframe giao dịch hợp lệ sau khi tạo bộ dữ liệu con: (492, 31)\n"
          ]
        }
      ],
      "source": [
        "#Trộn dữ liệu trước khi tạo bộ dữ liệu con\n",
        "df = df.sample(frac=1) #trộn data random\n",
        "\n",
        "#Số giao dịch gian lận là 492 giao dịch\n",
        "fraud_df = df.loc[df['Class'] == 1] #lấy ra 429 giao dịch gian lận\n",
        "non_fraud_df = df.loc[df['Class'] == 0][:492] #lấy ra 492 giao dịch ko gian lận đầu tiên\n",
        "\n",
        "normal_distributed_df = pd.concat([fraud_df, non_fraud_df]) #kết hợp 2 dataframe trên thành 1 -> 984 row\n",
        "\n",
        "#Trộn bộ dữ liệu con vừa tạo\n",
        "new_df = normal_distributed_df.sample(frac=1, random_state=42)\n",
        "\n",
        "#new_df\n",
        "# new_df.head()\n",
        "print(f'Kích thước của Dataframe sau khi tạo bộ dữ liệu con: {new_df.shape}')\n",
        "print(f'Kích thước của Dataframe giao dịch gian lận sau khi tạo bộ dữ liệu con: {fraud_df.shape}')\n",
        "print(f'Kích thước của Dataframe giao dịch hợp lệ sau khi tạo bộ dữ liệu con: {non_fraud_df.shape}')"
      ]
    },
    {
      "cell_type": "code",
      "execution_count": null,
      "metadata": {
        "colab": {
          "base_uri": "https://localhost:8080/",
          "height": 523
        },
        "id": "1DAPr_nvF-Zw",
        "outputId": "a9c2e7b6-7f27-4840-8389-58245f157a8c"
      },
      "outputs": [
        {
          "output_type": "stream",
          "name": "stdout",
          "text": [
            "Phân phối số lượng giao dịch trong bộ dữ liệu con vừa tạo\n",
            "0    0.5\n",
            "1    0.5\n",
            "Name: Class, dtype: float64\n"
          ]
        },
        {
          "output_type": "display_data",
          "data": {
            "text/plain": [
              "<Figure size 640x480 with 1 Axes>"
            ],
            "image/png": "[encoded data removed]"
          },
          "metadata": {}
        }
      ],
      "source": [
        "print('Phân phối số lượng giao dịch trong bộ dữ liệu con vừa tạo')\n",
        "print(new_df['Class'].value_counts()/len(new_df))\n",
        "\n",
        "sns.countplot(x='Class', data=new_df, palette=colors)\n",
        "plt.title('Phân phối số lượng giao dịch trong bộ dữ liệu con vừa tạo', fontsize=30)\n",
        "plt.show()"
      ]
    },
    {
      "cell_type": "code",
      "execution_count": null,
      "metadata": {
        "colab": {
          "base_uri": "https://localhost:8080/",
          "height": 1000
        },
        "id": "EIkTJm-YGGQM",
        "outputId": "3555446d-f3d6-4f29-b50f-0576e0083184"
      },
      "outputs": [
        {
          "output_type": "display_data",
          "data": {
            "text/plain": [
              "<Figure size 2400x2000 with 4 Axes>"
            ],
            "image/png": "[encoded data removed]"
          },
          "metadata": {}
        }
      ],
      "source": [
        "f, (ax1, ax2) = plt.subplots(2, 1, figsize=(24,20))\n",
        "\n",
        "#Dữ liệu gốc\n",
        "corr = df.corr()\n",
        "sns.heatmap(corr, cmap='coolwarm_r', annot_kws={'size':20}, ax=ax1)\n",
        "ax1.set_title(\"Ma trận tương quan của dữ liệu gốc\\n(bất cân bằng, không dùng để rút ra kết luận)\", fontsize=30)\n",
        "\n",
        "#Bộ dữ liệu con vừa tạo\n",
        "sub_sample_corr = new_df.corr()\n",
        "sns.heatmap(sub_sample_corr, cmap='coolwarm_r', annot_kws={'size':20}, ax=ax2)\n",
        "ax2.set_title('Ma trận tương quan của bộ dữ liệu con vừa tạo\\n(cân bằng, dùng để rút ra kết luận)', fontsize=30)\n",
        "plt.show()"
      ]
    },
    {
      "cell_type": "markdown",
      "metadata": {
        "id": "e5I4C8d_-lKR"
      },
      "source": [
        "v14 12 10 có tương quan âm cao nên chọn ra để loại bỏ outlier"
      ]
    },
    {
      "cell_type": "code",
      "execution_count": null,
      "metadata": {
        "colab": {
          "base_uri": "https://localhost:8080/",
          "height": 286
        },
        "id": "-zhk36W1GJET",
        "outputId": "662910be-bd34-42d5-ed16-f9ae42eac666"
      },
      "outputs": [
        {
          "output_type": "display_data",
          "data": {
            "text/plain": [
              "<Figure size 2000x400 with 4 Axes>"
            ],
            "image/png": "[encoded data removed]"
          },
          "metadata": {}
        }
      ],
      "source": [
        "f, axes = plt.subplots(ncols=4, figsize=(20,4))\n",
        "\n",
        "#Tương quan âm (Giá trị càng nhỏ thì khả năng là giao dịch gian lận càng lớn\n",
        "sns.boxplot(x=\"Class\", y=\"V17\", data=new_df, palette=colors, ax=axes[0])\n",
        "axes[0].set_title('V17 vs Class Negative Correlation')\n",
        "\n",
        "sns.boxplot(x=\"Class\", y=\"V14\", data=new_df, palette=colors, ax=axes[1])\n",
        "axes[1].set_title('V14 vs Class Negative Correlation')\n",
        "\n",
        "\n",
        "sns.boxplot(x=\"Class\", y=\"V12\", data=new_df, palette=colors, ax=axes[2])\n",
        "axes[2].set_title('V12 vs Class Negative Correlation')\n",
        "\n",
        "\n",
        "sns.boxplot(x=\"Class\", y=\"V10\", data=new_df, palette=colors, ax=axes[3])\n",
        "axes[3].set_title('V10 vs Class Negative Correlation')\n",
        "\n",
        "plt.show()"
      ]
    },
    {
      "cell_type": "code",
      "execution_count": null,
      "metadata": {
        "colab": {
          "base_uri": "https://localhost:8080/",
          "height": 287
        },
        "id": "09HGyjluGOWt",
        "outputId": "f1693473-be34-4f8f-c316-02c89695a1bf"
      },
      "outputs": [
        {
          "output_type": "display_data",
          "data": {
            "text/plain": [
              "<Figure size 2000x400 with 4 Axes>"
            ],
            "image/png": "[encoded data removed]"
          },
          "metadata": {}
        }
      ],
      "source": [
        "f, axes = plt.subplots(ncols=4, figsize=(20,4))\n",
        "\n",
        "# Tương quan dương (Giá trị càng lớn thì khả năng là giao dịch gian lận càng cao)\n",
        "sns.boxplot(x=\"Class\", y=\"V11\", data=new_df, palette=colors, ax=axes[0])\n",
        "axes[0].set_title('V11 vs Class Positive Correlation')\n",
        "\n",
        "sns.boxplot(x=\"Class\", y=\"V4\", data=new_df, palette=colors, ax=axes[1])\n",
        "axes[1].set_title('V4 vs Class Positive Correlation')\n",
        "\n",
        "sns.boxplot(x=\"Class\", y=\"V2\", data=new_df, palette=colors, ax=axes[2])\n",
        "axes[2].set_title('V2 vs Class Positive Correlation')\n",
        "\n",
        "sns.boxplot(x=\"Class\", y=\"V19\", data=new_df, palette=colors, ax=axes[3])\n",
        "axes[3].set_title('V19 vs Class Positive Correlation')\n",
        "\n",
        "plt.show()"
      ]
    },
    {
      "cell_type": "markdown",
      "metadata": {
        "id": "b32ivmqThuVY"
      },
      "source": [
        "Loại bỏ giá trị outlier bằng cách tính IQR"
      ]
    },
    {
      "cell_type": "markdown",
      "metadata": {
        "id": "zXdax2zWhZQQ"
      },
      "source": [
        "- Loại bỏ giá trị outlier đối với các thuộc tính có độ tương quan cao đối với thuộc tính Class để nâng cao độ chính xác của model khi train\n",
        "- Loại bỏ nhiều sẽ bị mất mát dữ liệu (1 nửa nếu bỏ hết)"
      ]
    },
    {
      "cell_type": "code",
      "execution_count": null,
      "metadata": {
        "colab": {
          "base_uri": "https://localhost:8080/",
          "height": 349
        },
        "id": "uE1o_8kIisFL",
        "outputId": "648838c2-3542-49ae-89ed-db6c1bfc677c"
      },
      "outputs": [
        {
          "output_type": "execute_result",
          "data": {
            "text/plain": [
              "       scaled_amount  scaled_time          V1          V2          V3  \\\n",
              "count     984.000000   984.000000  984.000000  984.000000  984.000000   \n",
              "mean        1.107929     0.029856   -2.418953    1.825204   -3.508089   \n",
              "std         3.307632     0.564329    5.533089    3.741050    6.237796   \n",
              "min        -0.307413    -0.993362  -30.552380  -16.102921  -31.103685   \n",
              "25%        -0.292392    -0.461774   -2.788129   -0.109561   -5.129049   \n",
              "50%        -0.061902    -0.054970   -0.828003    1.003078   -1.425925   \n",
              "75%         1.089779     0.571770    0.941758    2.798885    0.345599   \n",
              "max        44.396143     1.022486    2.257797   22.057729    3.557370   \n",
              "\n",
              "               V4          V5          V6          V7          V8  ...  \\\n",
              "count  984.000000  984.000000  984.000000  984.000000  984.000000  ...   \n",
              "mean     2.262528   -1.511988   -0.691851   -2.746335    0.296509  ...   \n",
              "std      3.202264    4.257880    1.818304    5.889977    4.900304  ...   \n",
              "min     -3.701314  -22.105532  -10.886820  -43.557242  -41.044261  ...   \n",
              "25%     -0.091379   -1.777551   -1.587624   -3.103817   -0.213713  ...   \n",
              "50%      1.287041   -0.393708   -0.678130   -0.574399    0.153646  ...   \n",
              "75%      4.248242    0.588444    0.032636    0.356884    0.885541  ...   \n",
              "max     12.114672   15.275762    6.474115   12.733075   20.007208  ...   \n",
              "\n",
              "              V20         V21         V22         V23         V24         V25  \\\n",
              "count  984.000000  984.000000  984.000000  984.000000  984.000000  984.000000   \n",
              "mean     0.169200    0.387084    0.019708   -0.012669   -0.053477    0.022611   \n",
              "std      1.137503    2.874579    1.203088    1.151581    0.571934    0.670186   \n",
              "min    -13.576029  -22.797604   -8.887017  -19.254328   -2.028024   -4.781606   \n",
              "25%     -0.200916   -0.152304   -0.533012   -0.226271   -0.402490   -0.300566   \n",
              "50%      0.018860    0.155999    0.046708   -0.039667    0.001163    0.045003   \n",
              "75%      0.422780    0.624776    0.615325    0.188880    0.371679    0.390993   \n",
              "max     11.059004   27.202839    8.361985    5.466230    1.227873    2.208209   \n",
              "\n",
              "              V26         V27         V28       Class  \n",
              "count  984.000000  984.000000  984.000000  984.000000  \n",
              "mean     0.012293    0.076428    0.052569    0.500000  \n",
              "std      0.492122    1.054446    0.642863    0.500254  \n",
              "min     -1.247547   -9.845808   -1.869290    0.000000  \n",
              "25%     -0.319953   -0.062180   -0.058559    0.000000  \n",
              "50%     -0.043405    0.054140    0.038608    0.500000  \n",
              "75%      0.322613    0.455031    0.213162    1.000000  \n",
              "max      2.745261    3.052358   15.407019    1.000000  \n",
              "\n",
              "[8 rows x 31 columns]"
            ],
            "text/html": [
              "\n",
              "  <div id=\"df-d477e344-a118-43d7-acff-1f2dd77e42c0\" class=\"colab-df-container\">\n",
              "    <div>\n",
              "<style scoped>\n",
              "    .dataframe tbody tr th:only-of-type {\n",
              "        vertical-align: middle;\n",
              "    }\n",
              "\n",
              "    .dataframe tbody tr th {\n",
              "        vertical-align: top;\n",
              "    }\n",
              "\n",
              "    .dataframe thead th {\n",
              "        text-align: right;\n",
              "    }\n",
              "</style>\n",
              "<table border=\"1\" class=\"dataframe\">\n",
              "  <thead>\n",
              "    <tr style=\"text-align: right;\">\n",
              "      <th></th>\n",
              "      <th>scaled_amount</th>\n",
              "      <th>scaled_time</th>\n",
              "      <th>V1</th>\n",
              "      <th>V2</th>\n",
              "      <th>V3</th>\n",
              "      <th>V4</th>\n",
              "      <th>V5</th>\n",
              "      <th>V6</th>\n",
              "      <th>V7</th>\n",
              "      <th>V8</th>\n",
              "      <th>...</th>\n",
              "      <th>V20</th>\n",
              "      <th>V21</th>\n",
              "      <th>V22</th>\n",
              "      <th>V23</th>\n",
              "      <th>V24</th>\n",
              "      <th>V25</th>\n",
              "      <th>V26</th>\n",
              "      <th>V27</th>\n",
              "      <th>V28</th>\n",
              "      <th>Class</th>\n",
              "    </tr>\n",
              "  </thead>\n",
              "  <tbody>\n",
              "    <tr>\n",
              "      <th>count</th>\n",
              "      <td>984.000000</td>\n",
              "      <td>984.000000</td>\n",
              "      <td>984.000000</td>\n",
              "      <td>984.000000</td>\n",
              "      <td>984.000000</td>\n",
              "      <td>984.000000</td>\n",
              "      <td>984.000000</td>\n",
              "      <td>984.000000</td>\n",
              "      <td>984.000000</td>\n",
              "      <td>984.000000</td>\n",
              "      <td>...</td>\n",
              "      <td>984.000000</td>\n",
              "      <td>984.000000</td>\n",
              "      <td>984.000000</td>\n",
              "      <td>984.000000</td>\n",
              "      <td>984.000000</td>\n",
              "      <td>984.000000</td>\n",
              "      <td>984.000000</td>\n",
              "      <td>984.000000</td>\n",
              "      <td>984.000000</td>\n",
              "      <td>984.000000</td>\n",
              "    </tr>\n",
              "    <tr>\n",
              "      <th>mean</th>\n",
              "      <td>1.107929</td>\n",
              "      <td>0.029856</td>\n",
              "      <td>-2.418953</td>\n",
              "      <td>1.825204</td>\n",
              "      <td>-3.508089</td>\n",
              "      <td>2.262528</td>\n",
              "      <td>-1.511988</td>\n",
              "      <td>-0.691851</td>\n",
              "      <td>-2.746335</td>\n",
              "      <td>0.296509</td>\n",
              "      <td>...</td>\n",
              "      <td>0.169200</td>\n",
              "      <td>0.387084</td>\n",
              "      <td>0.019708</td>\n",
              "      <td>-0.012669</td>\n",
              "      <td>-0.053477</td>\n",
              "      <td>0.022611</td>\n",
              "      <td>0.012293</td>\n",
              "      <td>0.076428</td>\n",
              "      <td>0.052569</td>\n",
              "      <td>0.500000</td>\n",
              "    </tr>\n",
              "    <tr>\n",
              "      <th>std</th>\n",
              "      <td>3.307632</td>\n",
              "      <td>0.564329</td>\n",
              "      <td>5.533089</td>\n",
              "      <td>3.741050</td>\n",
              "      <td>6.237796</td>\n",
              "      <td>3.202264</td>\n",
              "      <td>4.257880</td>\n",
              "      <td>1.818304</td>\n",
              "      <td>5.889977</td>\n",
              "      <td>4.900304</td>\n",
              "      <td>...</td>\n",
              "      <td>1.137503</td>\n",
              "      <td>2.874579</td>\n",
              "      <td>1.203088</td>\n",
              "      <td>1.151581</td>\n",
              "      <td>0.571934</td>\n",
              "      <td>0.670186</td>\n",
              "      <td>0.492122</td>\n",
              "      <td>1.054446</td>\n",
              "      <td>0.642863</td>\n",
              "      <td>0.500254</td>\n",
              "    </tr>\n",
              "    <tr>\n",
              "      <th>min</th>\n",
              "      <td>-0.307413</td>\n",
              "      <td>-0.993362</td>\n",
              "      <td>-30.552380</td>\n",
              "      <td>-16.102921</td>\n",
              "      <td>-31.103685</td>\n",
              "      <td>-3.701314</td>\n",
              "      <td>-22.105532</td>\n",
              "      <td>-10.886820</td>\n",
              "      <td>-43.557242</td>\n",
              "      <td>-41.044261</td>\n",
              "      <td>...</td>\n",
              "      <td>-13.576029</td>\n",
              "      <td>-22.797604</td>\n",
              "      <td>-8.887017</td>\n",
              "      <td>-19.254328</td>\n",
              "      <td>-2.028024</td>\n",
              "      <td>-4.781606</td>\n",
              "      <td>-1.247547</td>\n",
              "      <td>-9.845808</td>\n",
              "      <td>-1.869290</td>\n",
              "      <td>0.000000</td>\n",
              "    </tr>\n",
              "    <tr>\n",
              "      <th>25%</th>\n",
              "      <td>-0.292392</td>\n",
              "      <td>-0.461774</td>\n",
              "      <td>-2.788129</td>\n",
              "      <td>-0.109561</td>\n",
              "      <td>-5.129049</td>\n",
              "      <td>-0.091379</td>\n",
              "      <td>-1.777551</td>\n",
              "      <td>-1.587624</td>\n",
              "      <td>-3.103817</td>\n",
              "      <td>-0.213713</td>\n",
              "      <td>...</td>\n",
              "      <td>-0.200916</td>\n",
              "      <td>-0.152304</td>\n",
              "      <td>-0.533012</td>\n",
              "      <td>-0.226271</td>\n",
              "      <td>-0.402490</td>\n",
              "      <td>-0.300566</td>\n",
              "      <td>-0.319953</td>\n",
              "      <td>-0.062180</td>\n",
              "      <td>-0.058559</td>\n",
              "      <td>0.000000</td>\n",
              "    </tr>\n",
              "    <tr>\n",
              "      <th>50%</th>\n",
              "      <td>-0.061902</td>\n",
              "      <td>-0.054970</td>\n",
              "      <td>-0.828003</td>\n",
              "      <td>1.003078</td>\n",
              "      <td>-1.425925</td>\n",
              "      <td>1.287041</td>\n",
              "      <td>-0.393708</td>\n",
              "      <td>-0.678130</td>\n",
              "      <td>-0.574399</td>\n",
              "      <td>0.153646</td>\n",
              "      <td>...</td>\n",
              "      <td>0.018860</td>\n",
              "      <td>0.155999</td>\n",
              "      <td>0.046708</td>\n",
              "      <td>-0.039667</td>\n",
              "      <td>0.001163</td>\n",
              "      <td>0.045003</td>\n",
              "      <td>-0.043405</td>\n",
              "      <td>0.054140</td>\n",
              "      <td>0.038608</td>\n",
              "      <td>0.500000</td>\n",
              "    </tr>\n",
              "    <tr>\n",
              "      <th>75%</th>\n",
              "      <td>1.089779</td>\n",
              "      <td>0.571770</td>\n",
              "      <td>0.941758</td>\n",
              "      <td>2.798885</td>\n",
              "      <td>0.345599</td>\n",
              "      <td>4.248242</td>\n",
              "      <td>0.588444</td>\n",
              "      <td>0.032636</td>\n",
              "      <td>0.356884</td>\n",
              "      <td>0.885541</td>\n",
              "      <td>...</td>\n",
              "      <td>0.422780</td>\n",
              "      <td>0.624776</td>\n",
              "      <td>0.615325</td>\n",
              "      <td>0.188880</td>\n",
              "      <td>0.371679</td>\n",
              "      <td>0.390993</td>\n",
              "      <td>0.322613</td>\n",
              "      <td>0.455031</td>\n",
              "      <td>0.213162</td>\n",
              "      <td>1.000000</td>\n",
              "    </tr>\n",
              "    <tr>\n",
              "      <th>max</th>\n",
              "      <td>44.396143</td>\n",
              "      <td>1.022486</td>\n",
              "      <td>2.257797</td>\n",
              "      <td>22.057729</td>\n",
              "      <td>3.557370</td>\n",
              "      <td>12.114672</td>\n",
              "      <td>15.275762</td>\n",
              "      <td>6.474115</td>\n",
              "      <td>12.733075</td>\n",
              "      <td>20.007208</td>\n",
              "      <td>...</td>\n",
              "      <td>11.059004</td>\n",
              "      <td>27.202839</td>\n",
              "      <td>8.361985</td>\n",
              "      <td>5.466230</td>\n",
              "      <td>1.227873</td>\n",
              "      <td>2.208209</td>\n",
              "      <td>2.745261</td>\n",
              "      <td>3.052358</td>\n",
              "      <td>15.407019</td>\n",
              "      <td>1.000000</td>\n",
              "    </tr>\n",
              "  </tbody>\n",
              "</table>\n",
              "<p>8 rows × 31 columns</p>\n",
              "</div>\n",
              "    <div class=\"colab-df-buttons\">\n",
              "\n",
              "  <div class=\"colab-df-container\">\n",
              "    <button class=\"colab-df-convert\" onclick=\"convertToInteractive('df-d477e344-a118-43d7-acff-1f2dd77e42c0')\"\n",
              "            title=\"Convert this dataframe to an interactive table.\"\n",
              "            style=\"display:none;\">\n",
              "\n",
              "  <svg xmlns=\"http://www.w3.org/2000/svg\" height=\"24px\" viewBox=\"0 -960 960 960\">\n",
              "    <path d=\"M120-120v-720h720v720H120Zm60-500h600v-160H180v160Zm220 220h160v-160H400v160Zm0 220h160v-160H400v160ZM180-400h160v-160H180v160Zm440 0h160v-160H620v160ZM180-180h160v-160H180v160Zm440 0h160v-160H620v160Z\"/>\n",
              "  </svg>\n",
              "    </button>\n",
              "\n",
              "  <style>\n",
              "    .colab-df-container {\n",
              "      display:flex;\n",
              "      gap: 12px;\n",
              "    }\n",
              "\n",
              "    .colab-df-convert {\n",
              "      background-color: #E8F0FE;\n",
              "      border: none;\n",
              "      border-radius: 50%;\n",
              "      cursor: pointer;\n",
              "      display: none;\n",
              "      fill: #1967D2;\n",
              "      height: 32px;\n",
              "      padding: 0 0 0 0;\n",
              "      width: 32px;\n",
              "    }\n",
              "\n",
              "    .colab-df-convert:hover {\n",
              "      background-color: #E2EBFA;\n",
              "      box-shadow: 0px 1px 2px rgba(60, 64, 67, 0.3), 0px 1px 3px 1px rgba(60, 64, 67, 0.15);\n",
              "      fill: #174EA6;\n",
              "    }\n",
              "\n",
              "    .colab-df-buttons div {\n",
              "      margin-bottom: 4px;\n",
              "    }\n",
              "\n",
              "    [theme=dark] .colab-df-convert {\n",
              "      background-color: #3B4455;\n",
              "      fill: #D2E3FC;\n",
              "    }\n",
              "\n",
              "    [theme=dark] .colab-df-convert:hover {\n",
              "      background-color: #434B5C;\n",
              "      box-shadow: 0px 1px 3px 1px rgba(0, 0, 0, 0.15);\n",
              "      filter: drop-shadow(0px 1px 2px rgba(0, 0, 0, 0.3));\n",
              "      fill: #FFFFFF;\n",
              "    }\n",
              "  </style>\n",
              "\n",
              "    <script>\n",
              "      const buttonEl =\n",
              "        document.querySelector('#df-d477e344-a118-43d7-acff-1f2dd77e42c0 button.colab-df-convert');\n",
              "      buttonEl.style.display =\n",
              "        google.colab.kernel.accessAllowed ? 'block' : 'none';\n",
              "\n",
              "      async function convertToInteractive(key) {\n",
              "        const element = document.querySelector('#df-d477e344-a118-43d7-acff-1f2dd77e42c0');\n",
              "        const dataTable =\n",
              "          await google.colab.kernel.invokeFunction('convertToInteractive',\n",
              "                                                    [key], {});\n",
              "        if (!dataTable) return;\n",
              "\n",
              "        const docLinkHtml = 'Like what you see? Visit the ' +\n",
              "          '<a target=\"_blank\" href=https://colab.research.google.com/notebooks/data_table.ipynb>data table notebook</a>'\n",
              "          + ' to learn more about interactive tables.';\n",
              "        element.innerHTML = '';\n",
              "        dataTable['output_type'] = 'display_data';\n",
              "        await google.colab.output.renderOutput(dataTable, element);\n",
              "        const docLink = document.createElement('div');\n",
              "        docLink.innerHTML = docLinkHtml;\n",
              "        element.appendChild(docLink);\n",
              "      }\n",
              "    </script>\n",
              "  </div>\n",
              "\n",
              "\n",
              "<div id=\"df-4ef8a518-9920-446c-a861-3895501e2201\">\n",
              "  <button class=\"colab-df-quickchart\" onclick=\"quickchart('df-4ef8a518-9920-446c-a861-3895501e2201')\"\n",
              "            title=\"Suggest charts\"\n",
              "            style=\"display:none;\">\n",
              "\n",
              "<svg xmlns=\"http://www.w3.org/2000/svg\" height=\"24px\"viewBox=\"0 0 24 24\"\n",
              "     width=\"24px\">\n",
              "    <g>\n",
              "        <path d=\"M19 3H5c-1.1 0-2 .9-2 2v14c0 1.1.9 2 2 2h14c1.1 0 2-.9 2-2V5c0-1.1-.9-2-2-2zM9 17H7v-7h2v7zm4 0h-2V7h2v10zm4 0h-2v-4h2v4z\"/>\n",
              "    </g>\n",
              "</svg>\n",
              "  </button>\n",
              "\n",
              "<style>\n",
              "  .colab-df-quickchart {\n",
              "      --bg-color: #E8F0FE;\n",
              "      --fill-color: #1967D2;\n",
              "      --hover-bg-color: #E2EBFA;\n",
              "      --hover-fill-color: #174EA6;\n",
              "      --disabled-fill-color: #AAA;\n",
              "      --disabled-bg-color: #DDD;\n",
              "  }\n",
              "\n",
              "  [theme=dark] .colab-df-quickchart {\n",
              "      --bg-color: #3B4455;\n",
              "      --fill-color: #D2E3FC;\n",
              "      --hover-bg-color: #434B5C;\n",
              "      --hover-fill-color: #FFFFFF;\n",
              "      --disabled-bg-color: #3B4455;\n",
              "      --disabled-fill-color: #666;\n",
              "  }\n",
              "\n",
              "  .colab-df-quickchart {\n",
              "    background-color: var(--bg-color);\n",
              "    border: none;\n",
              "    border-radius: 50%;\n",
              "    cursor: pointer;\n",
              "    display: none;\n",
              "    fill: var(--fill-color);\n",
              "    height: 32px;\n",
              "    padding: 0;\n",
              "    width: 32px;\n",
              "  }\n",
              "\n",
              "  .colab-df-quickchart:hover {\n",
              "    background-color: var(--hover-bg-color);\n",
              "    box-shadow: 0 1px 2px rgba(60, 64, 67, 0.3), 0 1px 3px 1px rgba(60, 64, 67, 0.15);\n",
              "    fill: var(--button-hover-fill-color);\n",
              "  }\n",
              "\n",
              "  .colab-df-quickchart-complete:disabled,\n",
              "  .colab-df-quickchart-complete:disabled:hover {\n",
              "    background-color: var(--disabled-bg-color);\n",
              "    fill: var(--disabled-fill-color);\n",
              "    box-shadow: none;\n",
              "  }\n",
              "\n",
              "  .colab-df-spinner {\n",
              "    border: 2px solid var(--fill-color);\n",
              "    border-color: transparent;\n",
              "    border-bottom-color: var(--fill-color);\n",
              "    animation:\n",
              "      spin 1s steps(1) infinite;\n",
              "  }\n",
              "\n",
              "  @keyframes spin {\n",
              "    0% {\n",
              "      border-color: transparent;\n",
              "      border-bottom-color: var(--fill-color);\n",
              "      border-left-color: var(--fill-color);\n",
              "    }\n",
              "    20% {\n",
              "      border-color: transparent;\n",
              "      border-left-color: var(--fill-color);\n",
              "      border-top-color: var(--fill-color);\n",
              "    }\n",
              "    30% {\n",
              "      border-color: transparent;\n",
              "      border-left-color: var(--fill-color);\n",
              "      border-top-color: var(--fill-color);\n",
              "      border-right-color: var(--fill-color);\n",
              "    }\n",
              "    40% {\n",
              "      border-color: transparent;\n",
              "      border-right-color: var(--fill-color);\n",
              "      border-top-color: var(--fill-color);\n",
              "    }\n",
              "    60% {\n",
              "      border-color: transparent;\n",
              "      border-right-color: var(--fill-color);\n",
              "    }\n",
              "    80% {\n",
              "      border-color: transparent;\n",
              "      border-right-color: var(--fill-color);\n",
              "      border-bottom-color: var(--fill-color);\n",
              "    }\n",
              "    90% {\n",
              "      border-color: transparent;\n",
              "      border-bottom-color: var(--fill-color);\n",
              "    }\n",
              "  }\n",
              "</style>\n",
              "\n",
              "  <script>\n",
              "    async function quickchart(key) {\n",
              "      const quickchartButtonEl =\n",
              "        document.querySelector('#' + key + ' button');\n",
              "      quickchartButtonEl.disabled = true;  // To prevent multiple clicks.\n",
              "      quickchartButtonEl.classList.add('colab-df-spinner');\n",
              "      try {\n",
              "        const charts = await google.colab.kernel.invokeFunction(\n",
              "            'suggestCharts', [key], {});\n",
              "      } catch (error) {\n",
              "        console.error('Error during call to suggestCharts:', error);\n",
              "      }\n",
              "      quickchartButtonEl.classList.remove('colab-df-spinner');\n",
              "      quickchartButtonEl.classList.add('colab-df-quickchart-complete');\n",
              "    }\n",
              "    (() => {\n",
              "      let quickchartButtonEl =\n",
              "        document.querySelector('#df-4ef8a518-9920-446c-a861-3895501e2201 button');\n",
              "      quickchartButtonEl.style.display =\n",
              "        google.colab.kernel.accessAllowed ? 'block' : 'none';\n",
              "    })();\n",
              "  </script>\n",
              "</div>\n",
              "    </div>\n",
              "  </div>\n"
            ]
          },
          "metadata": {},
          "execution_count": 23
        }
      ],
      "source": [
        "new_df.describe()"
      ]
    },
    {
      "cell_type": "code",
      "execution_count": null,
      "metadata": {
        "colab": {
          "base_uri": "https://localhost:8080/"
        },
        "id": "5yg-2GwhGYr3",
        "outputId": "b57d22e6-4e77-445c-8af5-6c700e8efbfe"
      },
      "outputs": [
        {
          "output_type": "stream",
          "name": "stdout",
          "text": [
            "Quartile 25: -9.692722964972386 | Quartile 75: -4.282820849486865\n",
            "iqr: 5.409902115485521\n",
            "Cut Off: 8.114853173228282\n",
            "V14 Lower: -17.807576138200666\n",
            "V14 Upper: 3.8320323237414167\n",
            "Feature V14 Outliers for Fraud Cases: 4\n",
            "V14 outliers:[-18.0499976898594, -19.2143254902614, -18.8220867423816, -18.4937733551053]\n",
            "--------------------------------------------------------------------------------------------------------------------------------------------------------------------------------\n",
            "V12 Lower: -17.3430371579634\n",
            "V12 Upper: 5.776973384895937\n",
            "V12 outliers: [-18.6837146333443, -18.4311310279993, -18.5536970096458, -18.0475965708216]\n",
            "Feature V12 Outliers for Fraud Cases: 4\n",
            "Number of Instances after outliers removal: 976\n",
            "--------------------------------------------------------------------------------------------------------------------------------------------------------------------------------\n",
            "V10 Lower: -14.89885463232024\n",
            "V10 Upper: 4.92033495834214\n",
            "V10 outliers: [-23.2282548357516, -22.1870885620007, -16.7460441053944, -15.5637913387301, -16.2556117491401, -24.4031849699728, -15.3460988468775, -15.5637913387301, -17.1415136412892, -15.1241628144947, -15.1237521803455, -19.836148851696, -16.6496281595399, -14.9246547735487, -24.5882624372475, -22.1870885620007, -22.1870885620007, -15.2399619587112, -15.2399619587112, -16.3035376590131, -18.2711681738888, -14.9246547735487, -22.1870885620007, -20.9491915543611, -16.6011969664137, -18.9132433348732, -15.2318333653018]\n",
            "Feature V10 Outliers for Fraud Cases: 27\n",
            "Number of Instances after outliers removal: 946\n"
          ]
        }
      ],
      "source": [
        "# # -----> V14 Removing Outliers (Highest Negative Correlated with Labels)\n",
        "v14_fraud = new_df['V14'].loc[new_df['Class'] == 1].values\n",
        "q25, q75 = np.percentile(v14_fraud, 25), np.percentile(v14_fraud, 75) # tính phân vị 25% và 75% của v14 trong tập new_df 984 row\n",
        "print('Quartile 25: {} | Quartile 75: {}'.format(q25, q75))\n",
        "v14_iqr = q75 - q25\n",
        "print('iqr: {}'.format(v14_iqr))\n",
        "\n",
        "v14_cut_off = v14_iqr * 1.5\n",
        "# tính giới hạn dưới (lấy phân vị 25 - iqr * 1.5), giới hạn trên (lấy phân vị 75 - iqr * 1.5)\n",
        "v14_lower, v14_upper = q25 - v14_cut_off, q75 + v14_cut_off\n",
        "print('Cut Off: {}'.format(v14_cut_off))\n",
        "print('V14 Lower: {}'.format(v14_lower))\n",
        "print('V14 Upper: {}'.format(v14_upper))\n",
        "\n",
        "outliers = [x for x in v14_fraud if x < v14_lower or x > v14_upper] #list chứa các giá trị outlier\n",
        "print('Feature V14 Outliers for Fraud Cases: {}'.format(len(outliers))) # số trường hợp gian lận của v14\n",
        "print('V14 outliers:{}'.format(outliers))\n",
        "\n",
        "new_df = new_df.drop(new_df[(new_df['V14'] > v14_upper) | (new_df['V14'] < v14_lower)].index)\n",
        "print('----' * 44)\n",
        "\n",
        "# -----> V12 removing outliers from fraud transactions\n",
        "v12_fraud = new_df['V12'].loc[new_df['Class'] == 1].values\n",
        "q25, q75 = np.percentile(v12_fraud, 25), np.percentile(v12_fraud, 75)\n",
        "v12_iqr = q75 - q25\n",
        "\n",
        "v12_cut_off = v12_iqr * 1.5\n",
        "v12_lower, v12_upper = q25 - v12_cut_off, q75 + v12_cut_off\n",
        "print('V12 Lower: {}'.format(v12_lower))\n",
        "print('V12 Upper: {}'.format(v12_upper))\n",
        "outliers = [x for x in v12_fraud if x < v12_lower or x > v12_upper]\n",
        "print('V12 outliers: {}'.format(outliers))\n",
        "print('Feature V12 Outliers for Fraud Cases: {}'.format(len(outliers)))\n",
        "new_df = new_df.drop(new_df[(new_df['V12'] > v12_upper) | (new_df['V12'] < v12_lower)].index)\n",
        "print('Number of Instances after outliers removal: {}'.format(len(new_df)))\n",
        "print('----' * 44)\n",
        "\n",
        "# Removing outliers V10 Feature\n",
        "v10_fraud = new_df['V10'].loc[new_df['Class'] == 1].values\n",
        "q25, q75 = np.percentile(v10_fraud, 25), np.percentile(v10_fraud, 75)\n",
        "v10_iqr = q75 - q25\n",
        "\n",
        "v10_cut_off = v10_iqr * 1.5\n",
        "v10_lower, v10_upper = q25 - v10_cut_off, q75 + v10_cut_off\n",
        "print('V10 Lower: {}'.format(v10_lower))\n",
        "print('V10 Upper: {}'.format(v10_upper))\n",
        "outliers = [x for x in v10_fraud if x < v10_lower or x > v10_upper]\n",
        "print('V10 outliers: {}'.format(outliers))\n",
        "print('Feature V10 Outliers for Fraud Cases: {}'.format(len(outliers)))\n",
        "new_df = new_df.drop(new_df[(new_df['V10'] > v10_upper) | (new_df['V10'] < v10_lower)].index)\n",
        "print('Number of Instances after outliers removal: {}'.format(len(new_df)))"
      ]
    },
    {
      "cell_type": "markdown",
      "metadata": {
        "id": "uGKiG3m29Uiv"
      },
      "source": [
        "Train Model"
      ]
    },
    {
      "cell_type": "code",
      "execution_count": null,
      "metadata": {
        "colab": {
          "base_uri": "https://localhost:8080/"
        },
        "id": "N9cvRYJwdvYl",
        "outputId": "d7379876-ccbd-4dae-d08b-fd5803b197f0"
      },
      "outputs": [
        {
          "output_type": "execute_result",
          "data": {
            "text/plain": [
              "(946, 31)"
            ]
          },
          "metadata": {},
          "execution_count": 25
        }
      ],
      "source": [
        "new_df.shape"
      ]
    },
    {
      "cell_type": "code",
      "execution_count": null,
      "metadata": {
        "id": "nZfa4frQ9BHp"
      },
      "outputs": [],
      "source": [
        "X = new_df.drop('Class',axis=1)\n",
        "y = new_df['Class']"
      ]
    },
    {
      "cell_type": "code",
      "execution_count": null,
      "metadata": {
        "id": "ELZMO0_a9G5p"
      },
      "outputs": [],
      "source": [
        "X_train, X_test, y_train, y_test = train_test_split(X, y, test_size=0.2, random_state=42)"
      ]
    },
    {
      "cell_type": "markdown",
      "metadata": {
        "id": "aEi4GxOrfl1-"
      },
      "source": [
        "Dữ liệu của X và y bị mất đi do trừ đi số lượng giá trị outlier"
      ]
    },
    {
      "cell_type": "code",
      "execution_count": null,
      "metadata": {
        "colab": {
          "base_uri": "https://localhost:8080/"
        },
        "id": "zcGf1UKG9KoT",
        "outputId": "ca006982-9dd6-4413-d50f-dcb776539abd"
      },
      "outputs": [
        {
          "output_type": "stream",
          "name": "stdout",
          "text": [
            "756\n",
            "190\n",
            "756\n",
            "190\n"
          ]
        }
      ],
      "source": [
        "X_train = X_train.values\n",
        "X_test = X_test.values\n",
        "y_train = y_train.values\n",
        "y_test = y_test.values\n",
        "\n",
        "print(X_train.shape[0])\n",
        "print(X_test.shape[0])\n",
        "print(y_train.shape[0])\n",
        "print(y_test.shape[0])"
      ]
    },
    {
      "cell_type": "code",
      "execution_count": null,
      "metadata": {
        "id": "5adxdYeC9P4i"
      },
      "outputs": [],
      "source": [
        "classifiers = {\n",
        "    \"LogisiticRegression\": LogisticRegression(),\n",
        "    \"KNearest\": KNeighborsClassifier(),\n",
        "    \"Support Vector Classifier\": SVC(),\n",
        "}"
      ]
    },
    {
      "cell_type": "markdown",
      "metadata": {
        "id": "x-y3wJ24qsAN"
      },
      "source": [
        "Kiểm định chéo sau khi train"
      ]
    },
    {
      "cell_type": "markdown",
      "metadata": {
        "id": "Is-C9mpPjLEG"
      },
      "source": [
        "cross val dùng x y train"
      ]
    },
    {
      "cell_type": "code",
      "execution_count": null,
      "metadata": {
        "colab": {
          "base_uri": "https://localhost:8080/"
        },
        "id": "t6tBd1Cw9TKB",
        "outputId": "a36ccdad-ecef-4584-f6ea-edc7869dd698"
      },
      "outputs": [
        {
          "output_type": "stream",
          "name": "stdout",
          "text": [
            "Accuracy:  LogisticRegression có Accuracy:  95.0 %\n",
            "Cross Validation Score:  LogisticRegression có training score 93.39 % accuracy score\n",
            "Classification Report for LogisticRegression\n",
            "              precision    recall  f1-score   support\n",
            "\n",
            "           0       0.95      0.95      0.95        94\n",
            "           1       0.95      0.95      0.95        96\n",
            "\n",
            "    accuracy                           0.95       190\n",
            "   macro avg       0.95      0.95      0.95       190\n",
            "weighted avg       0.95      0.95      0.95       190\n",
            "\n",
            "\n",
            "Accuracy:  KNeighborsClassifier có Accuracy:  94.0 %\n",
            "Cross Validation Score:  KNeighborsClassifier có training score 92.2 % accuracy score\n",
            "Classification Report for KNeighborsClassifier\n",
            "              precision    recall  f1-score   support\n",
            "\n",
            "           0       0.92      0.96      0.94        94\n",
            "           1       0.96      0.92      0.94        96\n",
            "\n",
            "    accuracy                           0.94       190\n",
            "   macro avg       0.94      0.94      0.94       190\n",
            "weighted avg       0.94      0.94      0.94       190\n",
            "\n",
            "\n",
            "Accuracy:  SVC có Accuracy:  94.0 %\n",
            "Cross Validation Score:  SVC có training score 92.73 % accuracy score\n",
            "Classification Report for SVC\n",
            "              precision    recall  f1-score   support\n",
            "\n",
            "           0       0.92      0.96      0.94        94\n",
            "           1       0.96      0.92      0.94        96\n",
            "\n",
            "    accuracy                           0.94       190\n",
            "   macro avg       0.94      0.94      0.94       190\n",
            "weighted avg       0.94      0.94      0.94       190\n",
            "\n",
            "\n"
          ]
        }
      ],
      "source": [
        "for key, classifier in classifiers.items():\n",
        "    classifier.fit(X_train, y_train)\n",
        "\n",
        "    acc = classifier.score(X_train, y_train)\n",
        "    print(\"Accuracy: \", classifier.__class__.__name__, \"có Accuracy: \", round(acc, 2) * 100, \"%\")\n",
        "\n",
        "    training_score = cross_val_score(classifier, X_train, y_train, cv=5) #chia tập thành 5 phần và kiểm định chéo\n",
        "\n",
        "    #phần trăm độ chính xác trung bình của các lần kiểm tra chéo.\n",
        "    print(\"Cross Validation Score: \", classifier.__class__.__name__, \"có training score\", round(training_score.mean() * 100, 2), \"% accuracy score\")\n",
        "\n",
        "    # print()\n",
        "\n",
        "    y_pred = classifier.predict(X_test)\n",
        "    print(\"Classification Report for\", classifier.__class__.__name__)\n",
        "    print(classification_report(y_test, y_pred))\n",
        "    print()"
      ]
    },
    {
      "cell_type": "markdown",
      "metadata": {
        "id": "DhdGdDbU1oMT"
      },
      "source": [
        "Cross validation đánh giá hiệu suất của mô hình trên nhiều tập data khác nhau chưa được học để giảm overfitting"
      ]
    },
    {
      "cell_type": "markdown",
      "metadata": {
        "id": "A-DCPW3o69nV"
      },
      "source": [
        "**Accuracy trước khi tìm siêu tham số: lần lượt từ cao đến thấp là Logistic Regression, KNN, SVM**"
      ]
    },
    {
      "cell_type": "markdown",
      "metadata": {
        "id": "C9sVZ4B_5sGc"
      },
      "source": [
        "**Cross Validation Score đánh giá hiệu suất của các thuật toán trước khi tìm siêu tham số: lần lượt từ cao đến thấp là Logistic Regression, KNN, SVM**"
      ]
    },
    {
      "cell_type": "markdown",
      "metadata": {
        "id": "WEDeWdIEjkqc"
      },
      "source": [
        "Dùng Grid tìm siêu tham số"
      ]
    },
    {
      "cell_type": "code",
      "execution_count": null,
      "metadata": {
        "colab": {
          "base_uri": "https://localhost:8080/"
        },
        "id": "Nm6TYFOfFJlQ",
        "outputId": "6ed8180b-cf97-47e0-d27f-0fa61e2d4dfd"
      },
      "outputs": [
        {
          "output_type": "stream",
          "name": "stdout",
          "text": [
            "Siêu tham số của LogisticRegression(C=10)\n",
            "Logistic Regression có accuracy sau khi tìm siêu tham số: 96.0%\n",
            "\n",
            "Siêu tham số của KNeighborsClassifier(n_neighbors=9)\n",
            "KNN có accuracy sau khi tìm siêu tham số: 93.0%\n",
            "\n",
            "Siêu tham số của SVC(C=0.7, kernel='linear')\n",
            "SVM có accuracy sau khi tìm siêu tham số: 96.0%\n"
          ]
        }
      ],
      "source": [
        "#grid search cv\n",
        "# Logistic Regression\n",
        "log_reg_params = {\"penalty\": ['l1', 'l2'], 'C': [0.001, 0.01, 0.1, 1, 10, 100, 1000]}\n",
        "\n",
        "grid_log_reg = GridSearchCV(LogisticRegression(), log_reg_params)\n",
        "grid_log_reg.fit(X_train, y_train)\n",
        "# Logistic Regression best estimator\n",
        "log_reg = grid_log_reg.best_estimator_\n",
        "print(f'Siêu tham số của {log_reg}')\n",
        "# print(classification_report())\n",
        "print(f'Logistic Regression có accuracy sau khi tìm siêu tham số: {round(grid_log_reg.score(X_train,y_train), 2) * 100}%')\n",
        "print()\n",
        "\n",
        "# KNN\n",
        "knears_params = {\"n_neighbors\": list(range(2,10,1)), 'algorithm': ['auto', 'ball_tree', 'kd_tree', 'brute']}\n",
        "\n",
        "grid_knears = GridSearchCV(KNeighborsClassifier(), knears_params)\n",
        "grid_knears.fit(X_train, y_train)\n",
        "\n",
        "# KNears best estimator\n",
        "knears_neighbors = grid_knears.best_estimator_\n",
        "print(f'Siêu tham số của {knears_neighbors}')\n",
        "print(f'KNN có accuracy sau khi tìm siêu tham số: {round(grid_knears.score(X_train,y_train), 2) * 100}%')\n",
        "print()\n",
        "# print(grid_knears.score(X_train, y_train))\n",
        "\n",
        "# Support Vector Classifier\n",
        "svc_params = {'C': [0.5, 0.7, 0.9, 1], 'kernel': ['rbf', 'poly', 'sigmoid', 'linear']}\n",
        "grid_svc = GridSearchCV(SVC(), svc_params)\n",
        "grid_svc.fit(X_train, y_train)\n",
        "\n",
        "# SVC best estimator\n",
        "svc = grid_svc.best_estimator_\n",
        "print(f'Siêu tham số của {svc}')\n",
        "print(f'SVM có accuracy sau khi tìm siêu tham số: {round(grid_svc.score(X_train,y_train), 2) * 100}%')\n",
        "# print(grid_svc.score(X_train, y_train))\n",
        "\n"
      ]
    },
    {
      "cell_type": "markdown",
      "metadata": {
        "id": "z9PqC2Zhp52r"
      },
      "source": [
        "c=1 96%\n",
        "\n",
        "n_neightbor = 2 94%\n",
        "\n",
        "c = 0.5 96%"
      ]
    },
    {
      "cell_type": "markdown",
      "metadata": {
        "id": "rzhTFH6c5XkK"
      },
      "source": [
        "**Accuracy sau khi tìm ra siêu tham số: lần lượt từ cao đến thấp là KNN, SVM, Logistic Regression**"
      ]
    },
    {
      "cell_type": "markdown",
      "metadata": {
        "id": "6Izk3nrIjn6K"
      },
      "source": [
        "Đánh giá sau khi tìm ra siêu tham số và kiểm định chéo"
      ]
    },
    {
      "cell_type": "code",
      "execution_count": null,
      "metadata": {
        "colab": {
          "base_uri": "https://localhost:8080/"
        },
        "id": "MQNP6cFpjZ1L",
        "outputId": "ac298adf-1a0c-410d-b0bf-29a405635699"
      },
      "outputs": [
        {
          "output_type": "stream",
          "name": "stdout",
          "text": [
            "Logistic Regression Cross Validation Score:  93.65%\n",
            "Knears Neighbors Cross Validation Score 92.86%\n",
            "Support Vector Classifier Cross Validation Score 94.05%\n"
          ]
        }
      ],
      "source": [
        "log_reg_score = cross_val_score(log_reg, X_train, y_train, cv=5)\n",
        "print('Logistic Regression Cross Validation Score: ', round(log_reg_score.mean() * 100, 2).astype(str) + '%')\n",
        "\n",
        "knears_score = cross_val_score(knears_neighbors, X_train, y_train, cv=5)\n",
        "print('Knears Neighbors Cross Validation Score', round(knears_score.mean() * 100, 2).astype(str) + '%')\n",
        "\n",
        "svc_score = cross_val_score(svc, X_train, y_train, cv=5)\n",
        "print('Support Vector Classifier Cross Validation Score', round(svc_score.mean() * 100, 2).astype(str) + '%')\n"
      ]
    },
    {
      "cell_type": "markdown",
      "metadata": {
        "id": "_ZGSqMZI4LW6"
      },
      "source": [
        "**Cross Validation Score sau khi tìm ra siêu tham số: lần lượt từ cao đến thấp là Logistic Regression, SVM, KNN**"
      ]
    },
    {
      "cell_type": "code",
      "execution_count": null,
      "metadata": {
        "colab": {
          "base_uri": "https://localhost:8080/"
        },
        "id": "_v-OG7ySj4lN",
        "outputId": "5fbb1902-5601-4693-c093-4bfbb33bb3a1"
      },
      "outputs": [
        {
          "output_type": "stream",
          "name": "stdout",
          "text": [
            "Train: [ 56949  56950  56951 ... 284804 284805 284806] Test: [    0     1     2 ... 61283 61965 63131]\n",
            "undersample_Xtrain:  (227845, 30)\n",
            "Train: [     0      1      2 ... 284804 284805 284806] Test: [ 56949  56950  56951 ... 116316 116739 118348]\n",
            "undersample_Xtrain:  (227845, 30)\n",
            "Train: [     0      1      2 ... 284804 284805 284806] Test: [113917 113918 113919 ... 171297 171476 171983]\n",
            "undersample_Xtrain:  (227846, 30)\n",
            "Train: [     0      1      2 ... 284804 284805 284806] Test: [170882 170883 170884 ... 228681 229029 229542]\n",
            "undersample_Xtrain:  (227846, 30)\n",
            "Train: [     0      1      2 ... 228681 229029 229542] Test: [227842 227843 227844 ... 284804 284805 284806]\n",
            "undersample_Xtrain:  (227846, 30)\n",
            "NearMiss Label Distribution: Counter({0: 492, 1: 492})\n"
          ]
        }
      ],
      "source": [
        "# We will undersample during cross validating\n",
        "undersample_X = df.drop('Class', axis=1)\n",
        "undersample_y = df['Class']\n",
        "\n",
        "for train_index, test_index in sss.split(undersample_X, undersample_y):\n",
        "    print(\"Train:\", train_index, \"Test:\", test_index)\n",
        "    undersample_Xtrain, undersample_Xtest = undersample_X.iloc[train_index], undersample_X.iloc[test_index]\n",
        "    undersample_ytrain, undersample_ytest = undersample_y.iloc[train_index], undersample_y.iloc[test_index]\n",
        "    print('undersample_Xtrain: ', undersample_Xtrain.shape)\n",
        "\n",
        "undersample_Xtrain = undersample_Xtrain.values\n",
        "undersample_Xtest = undersample_Xtest.values\n",
        "undersample_ytrain = undersample_ytrain.values\n",
        "undersample_ytest = undersample_ytest.values\n",
        "\n",
        "undersample_accuracy = []\n",
        "undersample_precision = []\n",
        "undersample_recall = []\n",
        "undersample_f1 = []\n",
        "undersample_auc = []\n",
        "\n",
        "#Phân phối NearMiss (Chỉ để xem cách nó phân phối nhãn, chúng tôi sẽ không sử dụng các biến này)\n",
        "X_nearmiss, y_nearmiss = NearMiss().fit_resample(undersample_X.values, undersample_y.values)\n",
        "print('NearMiss Label Distribution: {}'.format(Counter(y_nearmiss)))\n",
        "#Cross Validating the right way\n",
        "\n",
        "for train, test in sss.split(undersample_Xtrain, undersample_ytrain):\n",
        "    undersample_pipeline = imbalanced_make_pipeline(NearMiss(sampling_strategy='majority'), log_reg)\n",
        "    undersample_model = undersample_pipeline.fit(undersample_Xtrain[train], undersample_ytrain[train])\n",
        "    undersample_prediction = undersample_model.predict(undersample_Xtrain[test])\n",
        "\n",
        "    undersample_accuracy.append(undersample_pipeline.score(original_Xtrain[test], original_ytrain[test]))\n",
        "    undersample_precision.append(precision_score(original_ytrain[test], undersample_prediction))\n",
        "    undersample_recall.append(recall_score(original_ytrain[test], undersample_prediction))\n",
        "    undersample_f1.append(f1_score(original_ytrain[test], undersample_prediction))\n",
        "    undersample_auc.append(roc_auc_score(original_ytrain[test], undersample_prediction))"
      ]
    },
    {
      "cell_type": "code",
      "execution_count": null,
      "metadata": {
        "colab": {
          "base_uri": "https://localhost:8080/"
        },
        "id": "-CVXCmF-URrr",
        "outputId": "1a976fb3-9f92-4190-9847-cb34036bd7ac"
      },
      "outputs": [
        {
          "output_type": "stream",
          "name": "stdout",
          "text": [
            "[0.4672152732060566, 0.4296780706181834, 0.5122780837850293, 0.3411310320612697, 0.6193903750356602]\n",
            "[0.004150075710840671, 0.0017530578907526196, 0.0010690613641223007, 0.0021425141295112853, 0.0007414468806270522]\n",
            "[0.5211267605633803, 0.6376811594202898, 0.4807692307692308, 0.5686274509803921, 0.4827586206896552]\n",
            "[0.008234574083347242, 0.003496503496503496, 0.002133378845415369, 0.004268943436499467, 0.0014806197451218866]\n",
            "[0.5651222426573175, 0.5435109093804746, 0.4837771939816231, 0.487252120369999, 0.5342207684036769]\n"
          ]
        }
      ],
      "source": [
        "print(undersample_accuracy)\n",
        "print(undersample_precision)\n",
        "print(undersample_recall)\n",
        "print(undersample_f1)\n",
        "print(undersample_auc)\n"
      ]
    },
    {
      "cell_type": "code",
      "execution_count": null,
      "metadata": {
        "colab": {
          "base_uri": "https://localhost:8080/"
        },
        "id": "aNwkajK5Orvi",
        "outputId": "f7880f3c-389b-48aa-cd99-f117c42f9a44"
      },
      "outputs": [
        {
          "output_type": "execute_result",
          "data": {
            "text/plain": [
              "(284807, 30)"
            ]
          },
          "metadata": {},
          "execution_count": 35
        }
      ],
      "source": [
        "undersample_X.shape"
      ]
    },
    {
      "cell_type": "code",
      "execution_count": null,
      "metadata": {
        "colab": {
          "base_uri": "https://localhost:8080/"
        },
        "id": "iBD2g92LSZ3j",
        "outputId": "91112a42-5fde-457a-b9a8-0a891ad68499"
      },
      "outputs": [
        {
          "output_type": "execute_result",
          "data": {
            "text/plain": [
              "(984, 30)"
            ]
          },
          "metadata": {},
          "execution_count": 36
        }
      ],
      "source": [
        "X_nearmiss.shape"
      ]
    },
    {
      "cell_type": "markdown",
      "metadata": {
        "id": "DhHWT72Rdc0p"
      },
      "source": [
        "Giải thuật Nearmiss: 2 bước\n",
        "1. Tìm tất cả khoảng cách của các điểm data lớp đa số tới từng điểm data lớp thiểu số\n",
        "2. Chọn n điểm của lớp đa số có khoảng cách nhỏ nhất với các điểm của lớp thiểu số\n",
        "\n",
        "vd k = 3\n",
        "\n",
        "- Nearmiss 1: chọn mẫu của lớp đa số mà trong đó khoảng cách **trung bình** đến k điểm dữ liệu gần nhất của lớp thiểu số (1 điểm data lớp đa số tới k = 3 điểm data của lớp thiểu số gần nhất)\n",
        "- Nearmiss 2: chọn các mẫu của lớp đa số có khoảng cách **trung bình** đến k điểm xa nhất của lớp thiểu số là nhỏ nhất (1 điểm data lớp đa số tới 3 điểm data lớp thiểu số xa nhất r tính trung bình của 3 khoảng cách đó r so với mấy cái khác cái nào nhỏ nhất thì lấy)\n",
        "- Nearmiss 3: 2 bước\n",
        "  - Đối với mỗi điểm của lớp thiểu số, M hàng xóm gần nhất của chúng sẽ được giữ\n",
        "  - Các điểm của lớp đa số được chọn trong đó khoảng cách trung bình đến n hàng xóm gần nhất là lớn nhất\n",
        "\n",
        "      (**chỉ chọn** các điểm có khoảng cách **từ** lớp thiểu số tới lớp đa số có khoảng cách trung bình nhỏ nhất) ???\n",
        "\n",
        "\n"
      ]
    },
    {
      "cell_type": "markdown",
      "metadata": {
        "id": "ef7hZTOzgU4N"
      },
      "source": [
        "undersampling dùng Nearmiss\n",
        "- dùng để cân bằng số lượng mẫu giữa các lớp\n",
        "- undersampling: giảm dữ liệu thuộc lớp đa số (lớp 0) để cân bằng với lớp thiểu số (lớp 1) (chọn ngẫu nhiên dữ liệu của lớp để giảm)\n",
        "- ver của nearmiss ???????????\n",
        "- Nearmiss (kỹ thuật trong undersampling): bỏ đi các điểm dữ liệu có khoảng cách xa đối với các lớp thiểu số"
      ]
    },
    {
      "cell_type": "markdown",
      "metadata": {
        "id": "Xj1qIO5N3W8V"
      },
      "source": [
        "kích thước tập train = 756 => train_sizes = 80% = 604 vì shufflesplit chia tập 80 20"
      ]
    },
    {
      "cell_type": "markdown",
      "metadata": {
        "id": "xFPOB1Pst6lC"
      },
      "source": [
        "- Trong trường hợp của np.linspace(.1, 1.0, 5), train_sizes sẽ là một mảng chứa 5 giá trị từ 0.1 đến 1.0, với mức độ tăng đều. Cụ thể, nó sẽ tạo ra các giá trị sau đây:\n",
        "\n",
        "- 0.1, 0.325, 0.55, 0.775, 1.0\n",
        "\n",
        "- Mỗi giá trị trong train_sizes đại diện cho phần trăm kích thước tập dữ liệu huấn luyện mà mô hình sẽ được đào tạo trên. Khi các giá trị này thay đổi, learning curve sẽ được vẽ lại để hiển thị cách mà kích thước tập dữ liệu huấn luyện ảnh hưởng đến hiệu suất của mô hình."
      ]
    },
    {
      "cell_type": "markdown",
      "metadata": {
        "id": "qj04RkRTubYG"
      },
      "source": [
        "- .1 là giá trị đầu tiên trong dãy, tương ứng với 0.1.\n",
        "\n",
        "- 1.0 là giá trị cuối cùng trong dãy, tương ứng với 1.0.\n",
        "\n",
        "- 5 là số lượng mẫu trong dãy (tức là số lượng điểm dữ liệu được tạo ra)."
      ]
    },
    {
      "cell_type": "markdown",
      "metadata": {
        "id": "vFNVxUw3usqG"
      },
      "source": [
        "---"
      ]
    },
    {
      "cell_type": "markdown",
      "metadata": {
        "id": "dAdMG358Qlpb"
      },
      "source": [
        "ROC Curve"
      ]
    },
    {
      "cell_type": "markdown",
      "metadata": {
        "id": "QJ5DB5oEQn1P"
      },
      "source": [
        "ROC curve: Receiver operating curve: xác định là có tín hiệu hay chỉ là do nhiễu\n",
        "Có 2 tham số: True Positive Rate, False Positive Rate"
      ]
    },
    {
      "cell_type": "code",
      "execution_count": null,
      "metadata": {
        "id": "NBVHJBrjL4CM"
      },
      "outputs": [],
      "source": [
        "# method: phương pháp predict: hàm quyết định: việc quyết định xếp loại 1 điểm data vào 1 trong các lớp\n",
        "# Hàm quyết định là một hàm được sử dụng để tính toán một giá trị đại diện cho khoảng cách của điểm dữ liệu đó đến ranh giới phân loại\n",
        "\n",
        "# Trong Logistic Regression, hàm sigmoid được sử dụng làm hàm quyết định để đưa ra xác suất xếp loại vào một trong hai lớp\n",
        "log_reg_pred = cross_val_predict(log_reg, X_train, y_train, cv=5,\n",
        "                             method=\"decision_function\")\n",
        "\n",
        "knears_pred = cross_val_predict(knears_neighbors, X_train, y_train, cv=5)\n",
        "# Trong SVMs, hàm quyết định tính toán khoảng cách từ điểm dữ liệu đến siêu phẳng phân chia hai lớp.\n",
        "svc_pred = cross_val_predict(svc, X_train, y_train, cv=5,\n",
        "                             method=\"decision_function\")"
      ]
    },
    {
      "cell_type": "markdown",
      "metadata": {
        "id": "c3-B8WrzS6DS"
      },
      "source": [
        "AUC (Area Under the Curve): diện tích dưới đường cong\n",
        "- Dùng để đánh giá và so sánh hiệu suất giữa các mô hình phân loại khác nhau\n",
        "- AUC càng gần 1 thì mô hình càng tốt trong việc phân loại các lớp, trong khi AUC gần 0.5 chỉ ra rằng mô hình không có hiệu suất phân loại tốt hơn so với dự đoán ngẫu nhiên."
      ]
    },
    {
      "cell_type": "code",
      "execution_count": null,
      "metadata": {
        "colab": {
          "base_uri": "https://localhost:8080/"
        },
        "id": "leIlkvlEMBp8",
        "outputId": "50858c90-0504-4988-deb4-b5016b66e4c4"
      },
      "outputs": [
        {
          "output_type": "stream",
          "name": "stdout",
          "text": [
            "Logistic Regression: 97.0%\n",
            "KNears Neighbors: 93.0%\n",
            "Support Vector Classifier: 97.0%\n"
          ]
        }
      ],
      "source": [
        "print(f'Logistic Regression: {round(roc_auc_score(y_train, log_reg_pred), 2) * 100}%')\n",
        "print(f'KNears Neighbors: {round(roc_auc_score(y_train, knears_pred), 2) * 100}%')\n",
        "print(f'Support Vector Classifier: {round(roc_auc_score(y_train, svc_pred), 2) * 100}%')"
      ]
    },
    {
      "cell_type": "markdown",
      "metadata": {
        "id": "50s0PMKz2sQ0"
      },
      "source": [
        "AUC lần lượt cao đến thấp: LT, SVM, KNN"
      ]
    },
    {
      "cell_type": "markdown",
      "metadata": {
        "id": "VlUFATZRT38x"
      },
      "source": [
        "Biểu diễn ROC curve\n",
        "- Biểu diễn tỷ lệ giữa tỷ lệ các trường hợp dương thực sự được phát hiện chính xác (true positive rate, TPR) và tỷ lệ các trường hợp âm giả mạo bị phát hiện nhầm (false positive rate, FPR) tại các ngưỡng quyết định khác nhau.\n",
        "- Đường cong ROC càng gần với góc trên bên trái của đồ thị (có diện tích dưới đường cong càng lớn) thì mô hình càng tốt và ngược lại"
      ]
    },
    {
      "cell_type": "markdown",
      "metadata": {
        "id": "WNhQigfXmY_D"
      },
      "source": [
        "dự đoán dựa trên tập log_reg_pred <=> tập y_train"
      ]
    },
    {
      "cell_type": "code",
      "execution_count": null,
      "metadata": {
        "colab": {
          "base_uri": "https://localhost:8080/",
          "height": 637
        },
        "id": "aihkX9GaTpVS",
        "outputId": "6ec95083-f1a9-46a0-d458-2d04e4b82943"
      },
      "outputs": [
        {
          "output_type": "display_data",
          "data": {
            "text/plain": [
              "<Figure size 1600x800 with 1 Axes>"
            ],
            "image/png": "[encoded data removed]"
          },
          "metadata": {}
        }
      ],
      "source": [
        "log_fpr, log_tpr, log_thresold = roc_curve(y_train, log_reg_pred)\n",
        "knear_fpr, knear_tpr, knear_threshold = roc_curve(y_train, knears_pred)\n",
        "svc_fpr, svc_tpr, svc_threshold = roc_curve(y_train, svc_pred)\n",
        "\n",
        "def graph_roc_curve_multiple(log_fpr, log_tpr, knear_fpr, knear_tpr, svc_fpr, svc_tpr):\n",
        "    plt.figure(figsize=(16,8))\n",
        "    plt.title('ROC Curve \\n Top 3 Classifiers', fontsize=18)\n",
        "    plt.plot(log_fpr, log_tpr, label='Logistic Regression Classifier Score: {:.4f}'.format(roc_auc_score(y_train, log_reg_pred)))\n",
        "    plt.plot(knear_fpr, knear_tpr, label='KNears Neighbors Classifier Score: {:.4f}'.format(roc_auc_score(y_train, knears_pred)))\n",
        "    plt.plot(svc_fpr, svc_tpr, label='Support Vector Classifier Score: {:.4f}'.format(roc_auc_score(y_train, svc_pred)))\n",
        "    plt.plot([0, 1], [0, 1], 'k--')\n",
        "    plt.axis([-0.01, 1, 0, 1])\n",
        "    plt.xlabel('False Positive Rate', fontsize=16)\n",
        "    plt.ylabel('True Positive Rate', fontsize=16)\n",
        "    plt.legend()\n",
        "\n",
        "graph_roc_curve_multiple(log_fpr, log_tpr, knear_fpr, knear_tpr, svc_fpr, svc_tpr)\n",
        "plt.show()"
      ]
    },
    {
      "cell_type": "markdown",
      "metadata": {
        "id": "CsQLGCRg19LZ"
      },
      "source": [
        "Theo ROC thì mô hình LT, SVM, KNN\n",
        "- Đánh giá trường hợp TP\n",
        "- FP"
      ]
    },
    {
      "cell_type": "code",
      "execution_count": null,
      "metadata": {
        "id": "1daEnzDzUozh"
      },
      "outputs": [],
      "source": [
        "from sklearn.metrics import precision_recall_curve\n",
        "# precision là mảng chứa giá trị precision tương ứng với các ngưỡng quyết định khác nhau.\n",
        "# recall là mảng chứa giá trị recall tương ứng với các ngưỡng quyết định khác nhau.\n",
        "# threshold là mảng chứa các ngưỡng quyết định được sử dụng để tính toán precision và recall.\n",
        "precision, recall, threshold = precision_recall_curve(y_train, log_reg_pred)"
      ]
    },
    {
      "cell_type": "markdown",
      "metadata": {
        "id": "t0ItSN_nYjXu"
      },
      "source": [
        "Tính toán các giá trị đánh giá giữa y_train: giá trị thực tế so với y_pred: giá trị dự đoán"
      ]
    },
    {
      "cell_type": "markdown",
      "metadata": {
        "id": "rYfi_4K2mzBI"
      },
      "source": [
        "overfit data đã học r (y_train, y_pred) đã học"
      ]
    },
    {
      "cell_type": "code",
      "execution_count": null,
      "metadata": {
        "colab": {
          "base_uri": "https://localhost:8080/"
        },
        "id": "HtoxP4s9UsXR",
        "outputId": "9009c4db-07f1-41ea-dd69-0f755ddaa9e3"
      },
      "outputs": [
        {
          "output_type": "stream",
          "name": "stdout",
          "text": [
            "---------------------------------------------------------------------------------------------------------------------------------------\n",
            "Overfitting: \n",
            "\n",
            "Recall Score: 0.94\n",
            "Precision Score: 0.69\n",
            "F1 Score: 0.79\n",
            "Accuracy Score: 0.76\n",
            "---------------------------------------------------------------------------------------------------------------------------------------\n",
            "---------------------------------------------------------------------------------------------------------------------------------------\n",
            "How it should be:\n",
            "\n",
            "Accuracy Score: 0.47\n",
            "Precision Score: 0.00\n",
            "Recall Score: 0.54\n",
            "F1 Score: 0.00\n",
            "---------------------------------------------------------------------------------------------------------------------------------------\n"
          ]
        }
      ],
      "source": [
        "from sklearn.metrics import recall_score, precision_score, f1_score, accuracy_score\n",
        "y_pred = log_reg.predict(X_train) # log_reg: Logistic Reg của siêu tham số sau khi GridSearchCV\n",
        "\n",
        "# Trường hợp overfitting\n",
        "print('---' * 45)\n",
        "print('Overfitting: \\n')\n",
        "print('Recall Score: {:.2f}'.format(recall_score(y_train, y_pred)))\n",
        "print('Precision Score: {:.2f}'.format(precision_score(y_train, y_pred)))\n",
        "print('F1 Score: {:.2f}'.format(f1_score(y_train, y_pred)))\n",
        "print('Accuracy Score: {:.2f}'.format(accuracy_score(y_train, y_pred)))\n",
        "print('---' * 45)\n",
        "\n",
        "# Kết quả mong muốn\n",
        "# undersampling để xử lý vấn đề mất cân bằng lớp.\n",
        "print('---' * 45)\n",
        "print('How it should be:\\n')\n",
        "print(\"Accuracy Score: {:.2f}\".format(np.mean(undersample_accuracy)))\n",
        "print(\"Precision Score: {:.2f}\".format(np.mean(undersample_precision)))\n",
        "print(\"Recall Score: {:.2f}\".format(np.mean(undersample_recall)))\n",
        "print(\"F1 Score: {:.2f}\".format(np.mean(undersample_f1)))\n",
        "print('---' * 45)"
      ]
    },
    {
      "cell_type": "code",
      "execution_count": null,
      "metadata": {
        "id": "UMIGqpJebDiR"
      },
      "outputs": [],
      "source": [
        "# undersample_y_score = log_reg.decision_function(original_Xtest)"
      ]
    },
    {
      "cell_type": "code",
      "execution_count": null,
      "metadata": {
        "id": "dBbMPqOfbF9G"
      },
      "outputs": [],
      "source": [
        "# from sklearn.metrics import average_precision_score\n",
        "\n",
        "# undersample_average_precision = average_precision_score(original_ytest, undersample_y_score)\n",
        "\n",
        "# print('Average precision-recall score: {0:0.2f}'.format(\n",
        "#       undersample_average_precision))"
      ]
    },
    {
      "cell_type": "code",
      "execution_count": null,
      "metadata": {
        "id": "IFIx1xdabJI7"
      },
      "outputs": [],
      "source": [
        "# from sklearn.metrics import precision_recall_curve\n",
        "# import matplotlib.pyplot as plt\n",
        "\n",
        "# fig = plt.figure(figsize=(12,6))\n",
        "\n",
        "# precision, recall, _ = precision_recall_curve(original_ytest, undersample_y_score)\n",
        "\n",
        "# plt.step(recall, precision, color='#004a93', alpha=0.2,\n",
        "#          where='post')\n",
        "# plt.fill_between(recall, precision, step='post', alpha=0.2,\n",
        "#                  color='#48a6ff')\n",
        "\n",
        "# plt.xlabel('Recall')\n",
        "# plt.ylabel('Precision')\n",
        "# plt.ylim([0.0, 1.05])\n",
        "# plt.xlim([0.0, 1.0])\n",
        "# plt.title('UnderSampling Precision-Recall curve: \\n Average Precision-Recall Score ={0:0.2f}'.format(\n",
        "#           undersample_average_precision), fontsize=16)"
      ]
    },
    {
      "cell_type": "markdown",
      "metadata": {
        "id": "MrO1ca1obMh2"
      },
      "source": [
        "Thực hiện test trên Logistic Reg"
      ]
    },
    {
      "cell_type": "markdown",
      "metadata": {
        "id": "UngMC7WLmpyc"
      },
      "source": [
        "y_pred_log_reg dự đoán dựa trên tập test => data ch từng học"
      ]
    },
    {
      "cell_type": "code",
      "execution_count": null,
      "metadata": {
        "colab": {
          "base_uri": "https://localhost:8080/",
          "height": 530
        },
        "id": "NQ_W_iJXB7sx",
        "outputId": "191d7e5c-7701-4adf-d975-38a5ae11db03"
      },
      "outputs": [
        {
          "output_type": "stream",
          "name": "stdout",
          "text": [
            "190\n",
            "190\n"
          ]
        },
        {
          "output_type": "display_data",
          "data": {
            "text/plain": [
              "<Figure size 1800x700 with 6 Axes>"
            ],
            "image/png": "[encoded data removed]"
          },
          "metadata": {}
        }
      ],
      "source": [
        "from sklearn.metrics import confusion_matrix\n",
        "\n",
        "y_pred_log_reg = log_reg.predict(X_test) # xài gridsearch\n",
        "y_pred_knear = knears_neighbors.predict(X_test)\n",
        "y_pred_svc = svc.predict(X_test)\n",
        "\n",
        "print(X_test.shape[0])\n",
        "print(y_pred_log_reg.shape[0])\n",
        "\n",
        "log_reg_cf = confusion_matrix(y_test, y_pred_log_reg)\n",
        "kneighbors_cf = confusion_matrix(y_test, y_pred_knear)\n",
        "svc_cf = confusion_matrix(y_test, y_pred_svc)\n",
        "\n",
        "fig, ax = plt.subplots(1, 3,figsize=(18,7))\n",
        "\n",
        "sns.heatmap(log_reg_cf, ax=ax[0], annot=True, cmap=plt.cm.copper)\n",
        "ax[0].set_title(\"Logistic Regression \\n Confusion Matrix\", fontsize=14)\n",
        "ax[0].set_xticklabels(['', ''], fontsize=14, rotation=90)\n",
        "ax[0].set_yticklabels(['', ''], fontsize=14, rotation=360)\n",
        "\n",
        "sns.heatmap(kneighbors_cf, ax=ax[1], annot=True, cmap=plt.cm.copper)\n",
        "ax[1].set_title(\"KNearsNeighbors \\n Confusion Matrix\", fontsize=14)\n",
        "ax[1].set_xticklabels(['', ''], fontsize=14, rotation=90)\n",
        "ax[1].set_yticklabels(['', ''], fontsize=14, rotation=360)\n",
        "\n",
        "sns.heatmap(svc_cf, ax=ax[2], annot=True, cmap=plt.cm.copper)\n",
        "ax[2].set_title(\"Suppor Vector Classifier \\n Confusion Matrix\", fontsize=14)\n",
        "ax[2].set_xticklabels(['', ''], fontsize=14, rotation=90)\n",
        "ax[2].set_yticklabels(['', ''], fontsize=14, rotation=360)\n",
        "\n",
        "plt.show()\n"
      ]
    },
    {
      "cell_type": "code",
      "execution_count": null,
      "metadata": {
        "colab": {
          "base_uri": "https://localhost:8080/"
        },
        "id": "sgcAapiT8YxY",
        "outputId": "8009a97e-2bab-4e0f-bc55-19a3a5d4fc6c"
      },
      "outputs": [
        {
          "output_type": "stream",
          "name": "stdout",
          "text": [
            "Logistic Regression:\n",
            "              precision    recall  f1-score   support\n",
            "\n",
            "           0       0.93      0.53      0.68        94\n",
            "           1       0.68      0.96      0.79        96\n",
            "\n",
            "    accuracy                           0.75       190\n",
            "   macro avg       0.80      0.75      0.73       190\n",
            "weighted avg       0.80      0.75      0.74       190\n",
            "\n",
            "KNears Neighbors:\n",
            "              precision    recall  f1-score   support\n",
            "\n",
            "           0       0.91      0.96      0.93        94\n",
            "           1       0.96      0.91      0.93        96\n",
            "\n",
            "    accuracy                           0.93       190\n",
            "   macro avg       0.93      0.93      0.93       190\n",
            "weighted avg       0.93      0.93      0.93       190\n",
            "\n",
            "Support Vector Classifier:\n",
            "              precision    recall  f1-score   support\n",
            "\n",
            "           0       0.95      0.94      0.94        94\n",
            "           1       0.94      0.95      0.94        96\n",
            "\n",
            "    accuracy                           0.94       190\n",
            "   macro avg       0.94      0.94      0.94       190\n",
            "weighted avg       0.94      0.94      0.94       190\n",
            "\n"
          ]
        }
      ],
      "source": [
        "from sklearn.metrics import classification_report\n",
        "\n",
        "print('Logistic Regression:')\n",
        "print(classification_report(y_test, y_pred_log_reg))\n",
        "\n",
        "print('KNears Neighbors:')\n",
        "print(classification_report(y_test, y_pred_knear))\n",
        "\n",
        "print('Support Vector Classifier:')\n",
        "print(classification_report(y_test, y_pred_svc))\n"
      ]
    },
    {
      "cell_type": "markdown",
      "metadata": {
        "id": "Danr9uBeVrig"
      },
      "source": [
        "- góc trái trên cùng: TP\n",
        "- góc phải trên cùng: FN\n",
        "- góc trái dưới cùng: FP\n",
        "- góc phải dưới cùng: TN"
      ]
    },
    {
      "cell_type": "markdown",
      "metadata": {
        "id": "zP-DAy730O8o"
      },
      "source": [
        "---"
      ]
    },
    {
      "cell_type": "markdown",
      "metadata": {
        "id": "sTjYutrSjs9h"
      },
      "source": [
        "Precision trả lời cho câu hỏi trong các trường hợp được dự báo là positive thì có bao nhiêu trường hợp là đúng?\n",
        "- Precision càng cao thì model càng tốt trong phân loại nhóm positive\n",
        "- Công thức: TP/(TP+FP)"
      ]
    },
    {
      "cell_type": "markdown",
      "metadata": {
        "id": "jTvJee6HlTzF"
      },
      "source": [
        "<h1>Presicion:</h1>\n",
        "\n",
        "Logistic Regression:\n",
        "\n",
        "- Lớp 0: 0.9\n",
        "- Lớp 1: 0.81\n",
        "\n",
        "KNN:\n",
        "- Lớp 0: 0.85\n",
        "- Lớp 1: 0.99\n",
        "\n",
        "SVM:\n",
        "- Lớp 0: 0.85\n",
        "- Lớp 1: 0.99\n",
        "\n",
        "\n"
      ]
    },
    {
      "cell_type": "markdown",
      "metadata": {
        "id": "6jo_WPPQvwmt"
      },
      "source": [
        "=> Logistic Regression dự đoán tốt ở lớp 0, dự đoán là positive thì có ~~ 0.9 là đúng và dự đoán là negative thì có ~~ 0.81\n",
        "\n",
        "=> KNN và SVM dự đoán tốt ở lớp 1"
      ]
    },
    {
      "cell_type": "markdown",
      "metadata": {
        "id": "AMEkadjZvvTc"
      },
      "source": [
        "---"
      ]
    },
    {
      "cell_type": "markdown",
      "metadata": {
        "id": "MMfmMAvJkDGL"
      },
      "source": [
        "- Recall đo lường tỷ lệ dự báo chính xác các trường hợp positive trên toàn bộ các mẫu thuộc nhóm positive\n",
        "- Công thức: TP/(TP+FN)"
      ]
    },
    {
      "cell_type": "markdown",
      "metadata": {
        "id": "KJ2P9FfaoufN"
      },
      "source": [
        "<h1>Recall:</h1>\n",
        "\n",
        "Logistic Regression:\n",
        "\n",
        "- Lớp 0: 0.73\n",
        "- Lớp 1: 0.93\n",
        "\n",
        "KNN:\n",
        "\n",
        "- Lớp 0: 0.99\n",
        "- Lớp 1: 0.86\n",
        "\n",
        "SVM:\n",
        "- Lớp 0: 0.99\n",
        "- Lớp 1: 0.86\n"
      ]
    },
    {
      "cell_type": "markdown",
      "metadata": {
        "id": "pZ3LOqi8wPRy"
      },
      "source": [
        "=> Logistic Regression dự đoán tốt ở lớp 1, có tỷ lệ dự đoán chính xác các trường hợp positive trên toàn bộ các mẫu thuộc nhóm positive là 0.73\n",
        "\n",
        "=> KNN và SVM dự đoán tốt ở lớp 0"
      ]
    },
    {
      "cell_type": "markdown",
      "metadata": {
        "id": "nmCZLTSI0LSc"
      },
      "source": [
        "---"
      ]
    },
    {
      "cell_type": "markdown",
      "metadata": {
        "id": "sqsYLSCbzimn"
      },
      "source": [
        "F1 - Score:\n",
        "- Trung bình điều hòa giữa precision và recall. Do nó đại diện hơn trong việc đánh giá độ chính xác trên đồng thời precision và recall\n",
        "- Công thức: 2/[(precision^-1) + (recall^-1)]"
      ]
    },
    {
      "cell_type": "markdown",
      "metadata": {
        "id": "0YBWqKKH1X8J"
      },
      "source": [
        "Logistic Regression:\n",
        "- Lớp 0: 0.8\n",
        "- Lớp 1: 0.87\n",
        "\n",
        "KNN:\n",
        "- Lớp 0: 0.91\n",
        "- Lớp 1: 0.92\n",
        "\n",
        "SVM:\n",
        "- Lớp 0: 0.91\n",
        "- Lớp 1: 0.92"
      ]
    },
    {
      "cell_type": "markdown",
      "metadata": {
        "id": "4myubp_Q19GY"
      },
      "source": [
        "F1 - Score có đánh giá xác thực hơn so với việc quá lạc quan vào mô hình khi chỉ nhìn vào precision và quá bi quan nếu chỉ dựa trên recall"
      ]
    },
    {
      "cell_type": "markdown",
      "metadata": {
        "id": "mHv10bHR5LHz"
      },
      "source": [
        "Recall (độ bao phủ): đo lường tỷ lệ dự báo chính xác các trường hợp positive trên toàn bộ các mẫu thuộc nhóm positive: TP/TP+FN"
      ]
    },
    {
      "cell_type": "markdown",
      "metadata": {
        "id": "mkHyLb5f44H5"
      },
      "source": [
        "recall xét theo bên phải TP, FN"
      ]
    },
    {
      "cell_type": "markdown",
      "metadata": {
        "id": "s0A8L6pyqmai"
      },
      "source": [
        "Confusion Matrix:\n",
        "\n",
        "- Positive/Negative: Type of Class (label) [\"No\", \"Yes\"]\n",
        "True/False: Đúng hoặc Sai được phân loại bởi model.\n",
        "\n",
        "- True Negatives (Hình vuông góc trái trên cùng): Số lần phân loại đúng đối với trường hợp Sai.\n",
        "\n",
        "- False Negatives (Hình vuông góc phải trên cùng): Số lần phân loại sai đối với trường hợp Sai.\n",
        "\n",
        "- False Positives (Hình vuông góc trái dưới cùng): Số lần phân loại sai đối với trường hợp Đúng.\n",
        "\n",
        "- True Positives (Hình vuông góc phải dưới cùng): Số lần phân loại đúng đối với trường hợp Đúng."
      ]
    },
    {
      "cell_type": "markdown",
      "metadata": {
        "id": "35SdoMsjznur"
      },
      "source": [
        "190 -> 20% của 950\n"
      ]
    },
    {
      "cell_type": "markdown",
      "metadata": {
        "id": "JxhkMvEjtASr"
      },
      "source": [
        "Logistic Regresion\n",
        "- TN: ~~ 35% - 40% (số lượng dữ liệu dự đoán không gian lận trong 190)\n",
        "- FN: ~~ 10% - 20% (số lượng dữ liệu dự đoán sai trong không gian lận trong 190)\n",
        "- FP: ~~ 3% - 5% (số lượng dữ liệu dự đoán sai trong gian lận)\n",
        "- TP: ~~ 45% - 50% (số lượng dữ liệu dữ đoán đúng trong gian lận)\n"
      ]
    },
    {
      "cell_type": "markdown",
      "metadata": {
        "id": "Gg29wwKCuTNl"
      },
      "source": [
        "KNN\n",
        "- TN: ~~ 40% - 50% (số lượng dữ liệu dự đoán không gian lận trong 190)\n",
        "- FN: ~~ 0.5% - 1% (số lượng dữ liệu dự đoán sai trong không gian lận trong 190)\n",
        "- FP: ~~ 5% - 10% (số lượng dữ liệu dự đoán sai trong gian lận)\n",
        "- TP: ~~ 42% (số lượng dữ liệu dữ đoán đúng trong gian lận)"
      ]
    },
    {
      "cell_type": "markdown",
      "metadata": {
        "id": "WhkQ8WEzu8xZ"
      },
      "source": [
        "SVM\n",
        "- TN: ~~ 49% - 50% (số lượng dữ liệu dự đoán không gian lận trong 190)\n",
        "- FN: ~~ 0.5% - 2% (số lượng dữ liệu dự đoán sai trong không gian lận trong 190)\n",
        "- FP: ~~ 5% - 10% (số lượng dữ liệu dự đoán sai trong gian lận)\n",
        "- TP: ~~ 40% - 45% (số lượng dữ liệu dữ đoán đúng trong gian lận)"
      ]
    },
    {
      "cell_type": "markdown",
      "metadata": {
        "id": "siw2akzDzPJE"
      },
      "source": [
        "**Vậy qua ma trận nhầm lận giữa các mô hình thì:**"
      ]
    },
    {
      "cell_type": "markdown",
      "metadata": {
        "id": "o_R_6WYpxIYK"
      },
      "source": [
        "Logistic Regression:\n",
        "- FN: có số lượng dữ liệu dự đoán sai trong không gian lận cao hơn các mô hình còn lại\n",
        "- FP: số lượng dữ liệu dự đoán sai trong gian lận thấp nhất\n",
        "\n",
        "KNN:\n",
        "- FN: có số lượng dữ liệu dự đoán sai trong không gian lận thấp nhất\n",
        "- FP: số lượng dữ liệu dự đoán sai trong gian lận khá tương đương với SVM\n",
        "\n",
        "\n",
        "SVM:\n",
        "- FN: có số lượng dữ liệu dự đoán sai trong không gian lận cao hơn KNN một chút\n",
        "- FP: số lượng dữ liệu dự đoán sai trong gian lận khá tương đương với KNN\n"
      ]
    },
    {
      "cell_type": "markdown",
      "metadata": {
        "id": "EQ46KCaH19kw"
      },
      "source": [
        "- Logistic Regression có khả năng học tập tốt đối với các trường hợp gian lận tốt hơn các mô hình còn lại\n",
        "- KNN và SVM có khả năng học tập tốt đối với các trường hợp không gian lận tốt hơn Logistic Regression"
      ]
    },
    {
      "cell_type": "markdown",
      "metadata": {
        "id": "423jid8M-EKb"
      },
      "source": [
        "Đánh giá qua Accuracy là không đủ cho tập dữ liệu này vì đây là một tập dữ liệu mất cân bằng và có nhiều giá trị outlier nên chúng ta sẽ đánh giá qua các giá trị đánh giá khác như là: recall, precision, f1-score và roc"
      ]
    },
    {
      "cell_type": "markdown",
      "metadata": {
        "id": "7ck0Ah9p9I80"
      },
      "source": [
        "---"
      ]
    },
    {
      "cell_type": "markdown",
      "metadata": {
        "id": "Iu7DDp2GAeJ_"
      },
      "source": [
        "<h1>Positive"
      ]
    },
    {
      "cell_type": "markdown",
      "metadata": {
        "id": "fuNuucEG6ZZ4"
      },
      "source": [
        "Logistic Regression:\n",
        "- Dựa trên precision thì giá trị precision = 0.90 cho thấy đây là 1 model tốt\n",
        "- Trong 84 trường hợp positive thì mô hình nhận diện được đúng 61 trường hợp nên xét theo recall = 0.73 thì đây là một mô hình khá tốt\n",
        "- F1 - Score = 0.80 thì cho thấy mô hình khá tốt\n",
        "\n",
        "KNN:\n",
        "- Dựa trên precision thì giá trị precision = 0.85 cho thấy đây là 1 model tốt\n",
        "- Trong 84 trường hợp positive thì mô hình nhận diện được đúng 83 trường hợp nên xét theo recall = 0.99 thì đây là một mô hình rất tốt\n",
        "- F1 - Score = 0.91 thì cho thấy mô hình rất tốt\n",
        "\n",
        "SVM:\n",
        "- Dựa trên precision thì giá trị precision = 0.85 cho thấy đây là 1 model tốt\n",
        "- Trong 84 trường hợp positive thì mô hình nhận diện được đúng 83 trường hợp nên xét theo recall = 0.99 thì đây là một mô hình rất tốt\n",
        "- F1 - Score = 0.91 thì cho thấy mô hình rất tốt\n"
      ]
    },
    {
      "cell_type": "markdown",
      "metadata": {
        "id": "NfSqCnM4D2FX"
      },
      "source": [
        "---"
      ]
    },
    {
      "cell_type": "markdown",
      "metadata": {
        "id": "SLJpduoCD4Up"
      },
      "source": [
        "<h1>Negative"
      ]
    },
    {
      "cell_type": "markdown",
      "metadata": {
        "id": "u2wKfJt9D8WX"
      },
      "source": [
        "Logistic Regression:\n",
        "- Dựa trên precision thì giá trị precision = 0.93 cho thấy đây là 1 model tốt\n",
        "- Trong 105 trường hợp positive thì mô hình nhận diện được đúng 98 trường hợp nên xét theo recall = 0.73 thì đây là một mô hình khá tốt\n",
        "- F1 - Score = 0.87 thì cho thấy mô hình khá tốt\n",
        "\n",
        "KNN:\n",
        "- Dựa trên precision thì giá trị precision = 0.99 cho thấy đây là 1 model tốt\n",
        "- Trong 105 trường hợp positive thì mô hình nhận diện được đúng 90 trường hợp nên xét theo recall = 0.86 thì đây là một mô hình rất tốt\n",
        "- F1 - Score = 0.91 thì cho thấy mô hình rất tốt\n",
        "\n",
        "SVM:\n",
        "- Dựa trên precision thì giá trị precision = 0.99 cho thấy đây là 1 model tốt\n",
        "- Trong 105 trường hợp positive thì mô hình nhận diện được đúng 90 trường hợp nên xét theo recall = 0.99 thì đây là một mô hình rất tốt\n",
        "- F1 - Score = 0.91 thì cho thấy mô hình rất tốt"
      ]
    },
    {
      "cell_type": "markdown",
      "metadata": {
        "id": "mJs5CWwP75lD"
      },
      "source": [
        "**Vậy mô hình KNN và SVM là tốt nhất để huấn luyện cho tập dữ liệu này**"
      ]
    }
  ],
  "metadata": {
    "colab": {
      "provenance": []
    },
    "kernelspec": {
      "display_name": "Python 3",
      "name": "python3"
    },
    "language_info": {
      "name": "python"
    }
  },
  "nbformat": 4,
  "nbformat_minor": 0
}